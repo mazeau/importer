{
 "cells": [
  {
   "cell_type": "code",
   "execution_count": 2,
   "metadata": {
    "collapsed": true
   },
   "outputs": [],
   "source": [
    "import re\n",
    "from rdkit import Chem\n",
    "import pubchempy"
   ]
  },
  {
   "cell_type": "code",
   "execution_count": 3,
   "metadata": {
    "collapsed": true
   },
   "outputs": [],
   "source": [
    "inputfile = \"\"\"H                   H2                  O                   O2                  \n",
    "OH                  OH*                 H2O                 N2                  \n",
    "HO2                 H2O2                AR                  CO                  \n",
    "CO2                 CH2O                HCO                 HO2CHO              \n",
    "HCOH                O2CHO               HOCHO               OCHO                \n",
    "HOCH2O2H            HOCH2O2             OCH2O2H             HOCH2O              \n",
    "CH3OH               CH2OH               CH3O                CH3O2H              \n",
    "CH3O2               CH4                 CH3                 CH2                 \n",
    "CH2(S)              C                   CH                  CH*                 \n",
    "C2H6                C2H5                C2H4                C2H3                \n",
    "C2H2                C2H                 CH3CHO              C2H3OH              \n",
    "C2H2OH              CH3CO               CH2CHO              O2CH2CHO            \n",
    "HO2CH2CO            CH2CO               HCCO                HCCOH               \n",
    "CH3CO3H             CH3CO3              CH3CO2              C2H5OH              \n",
    "C2H5O               PC2H4OH             SC2H4OH             O2C2H4OH            \n",
    "C2H5O2H             C2H5O2              C2H4O2H             C2H4O1-2            \n",
    "C2H3O1-2            CH3COCH3            CH3COCH2            CH3COCH2O2          \n",
    "C3KET21             C2H3CHO             C2H3CO              C2H5CHO             \n",
    "C2H5CO              CH3OCH3             CH3OCH2             CH3OCH2O2           \n",
    "CH2OCH2O2H          CH3OCH2O2H          CH3OCH2O            O2CH2OCH2O2H        \n",
    "HO2CH2OCHO          OCH2OCHO            HOCH2OCO            CH3OCHO             \n",
    "CH3OCO              CH2OCHO             HE                  C3H8                \n",
    "IC3H7               NC3H7               C3H6                C3H5-A              \n",
    "C3H5-S              C3H5-T              C3H4-P              C3H4-A              \n",
    "C3H3                C3H5O               C3H6OOH1-2          C3H6OOH1-3          \n",
    "C3H6OOH2-1          C3H6OOH1-2O2        C3H6OOH1-3O2        C3H6OOH2-1O2        \n",
    "C3H6OOH2-2          NC3H7O2H            IC3H7O2H            NC3H7O2             \n",
    "IC3H7O2             NC3H7O              IC3H7O              C3H6O1-2            \n",
    "C3H6O1-3            C3KET12             C3KET13             C3H51-2,3OOH        \n",
    "C3H52-1,3OOH        C3H6OH              HOC3H6O2            CH3CHCO             \n",
    "AC3H5OOH            C2H3OOH             CC3H4               H2CC                \n",
    "C4H10               C4H8-1              C4H8-2              PC4H9               \n",
    "SC4H9               C4H71-1             C4H71-2             C4H71-3             \n",
    "C4H71-4             C4H72-2             C4H6                PC4H9O2H            \n",
    "SC4H9O2H            PC4H9O2             SC4H9O2             PC4H9O              \n",
    "SC4H9O              C4H7O               C4H8O1-2            C4H8O1-3            \n",
    "C4H8O1-4            C4H8O2-3            PC4H8OH             SC4H8OH             \n",
    "C4H8OH-1O2          C4H8OH-2O2          C4H8OOH1-1          C4H8OOH1-2          \n",
    "C4H8OOH1-3          C4H8OOH1-4          C4H8OOH2-1          C4H8OOH2-2          \n",
    "C4H8OOH2-3          C4H8OOH2-4          C4H8OOH1-2O2        C4H8OOH1-3O2        \n",
    "C4H8OOH1-4O2        C4H8OOH2-1O2        C4H8OOH2-3O2        C4H8OOH2-4O2        \n",
    "NC4KET12            NC4KET13            NC4KET14            NC4KET21            \n",
    "NC4KET23            NC4KET24            C2H5COCH3           C2H5COCH2           \n",
    "CH2CH2COCH3         CH3CHCOCH3          C2H3COCH3           CH3CHOOCOCH3        \n",
    "CH2CHOOHCOCH3       NC3H7CHO            NC3H7CO             C3H6CHO-1           \n",
    "C3H6CHO-2           C3H6CHO-3           C2H5CHCO            SC3H5CHO            \n",
    "SC3H5CO             CH2CH2CHO           IC4H10              IC4H9               \n",
    "TC4H9               IC4H8               IC4H7               TC4H9O2             \n",
    "IC4H9O2             TC4H8O2H-I          IC4H8O2H-I          IC4H8O2H-T          \n",
    "IC4H8O              CC4H8O              IC4H9O              TC4H9O              \n",
    "IC4H9O2H            TC4H9O2H            IC4H7O              IC4H8OH             \n",
    "IO2C4H8OH           IC3H7CHO            TC3H6CHO            IC3H7CO             \n",
    "IC3H6CHO            TC4H8OOH-IO2        IC4H8OOH-IO2        IC4H8OOH-TO2        \n",
    "IC4KETII            IC4KETIT            IC4H7OH             IC4H6OH             \n",
    "IC3H5CHO            IC3H5CO             TC3H6OCHO           IC3H6CO             \n",
    "IC4H7OOH            TC3H6OHCHO          TC3H6OH             IC3H5OH             \n",
    "TC3H6O2CHO          TC3H6O2HCO          IC3H5O2HCHO         CH2CCH2OH           \n",
    "TC4H8CHO            O2C4H8CHO           O2HC4H8CO           C3H5OH              \n",
    "TIC4H7Q2-I          IIC4H7Q2-T          IIC4H7Q2-I          CH2O2H              \n",
    "C4H4                C4H3-I              C4H3-N              C4H612              \n",
    "C4H2                C4H5-I              C4H5-N              CH3CHCHCO           \n",
    "CH2CHCHCHO          C4H6O25             C2H3CHOCH2          C4H5-2              \n",
    "C4H6-2              C4H6O23             CH3CHCHCHO          C4H4O               \n",
    "H2C4O               \n",
    "\"\"\""
   ]
  },
  {
   "cell_type": "code",
   "execution_count": 4,
   "metadata": {
    "collapsed": true
   },
   "outputs": [],
   "source": [
    "inputfile.split()\n",
    "name = inputfile.split()\n",
    "#print name\n",
    "#len(name)"
   ]
  },
  {
   "cell_type": "code",
   "execution_count": null,
   "metadata": {
    "collapsed": true
   },
   "outputs": [],
   "source": [
    "raw_smiles = {}\n",
    "for name, structure in structures.iteritems():\n",
    "    s = structure\n",
    "    s = re.sub('H','[H]',s)\n",
    "    s = re.sub('','[CH2]',s)\n",
    "    s = re.sub('/?ch','[CH]',s)\n",
    "    s = re.sub('/?c','[C]',s)\n",
    "    s = s.replace('//o','=O')\n",
    "    s = re.sub('/?oh','[OH]',s)\n",
    "    s = re.sub('/?o','[O]',s)\n",
    "    s = re.sub('\\(?\\.\\)?','',s)\n",
    "    s = re.sub('^h$','[H]',s)\n",
    "    s = s.replace('//','#') # if you still have a // by now it started as a ///\n",
    "    if '(#1)' in s:\n",
    "        assert '/1' in s\n",
    "        s = s.replace('(#1)','1').replace('/1','1')\n",
    "\n",
    "    def expander(match):\n",
    "        \"\"\"\n",
    "        For use in regular expressions substitution.\n",
    "        Accepts a Match object with two groups, first is the bracket to repeat,\n",
    "        second is the number of times to repeat it.\n",
    "        \"\"\"\n",
    "        number = int(match.group(2)) # how many times to repeat\n",
    "        result  = match.group(1) * number\n",
    "        print \"Expanding {} to {} in string {}\".format(match.string[match.start():match.end()], result, match.string)\n",
    "        return result\n",
    "    \n",
    "    s = re.sub('(\\([^)]+\\))(\\d+)', expander, s)\n",
    "    \n",
    "    raw_smiles[name] = s"
   ]
  }
 ],
 "metadata": {
  "kernelspec": {
   "display_name": "Python 2",
   "language": "python",
   "name": "python2"
  },
  "language_info": {
   "codemirror_mode": {
    "name": "ipython",
    "version": 2
   },
   "file_extension": ".py",
   "mimetype": "text/x-python",
   "name": "python",
   "nbconvert_exporter": "python",
   "pygments_lexer": "ipython2",
   "version": "2.7.14"
  }
 },
 "nbformat": 4,
 "nbformat_minor": 1
}

{
 "cells": [
  {
   "cell_type": "code",
   "execution_count": 18,
   "metadata": {
    "collapsed": true
   },
   "outputs": [],
   "source": [
    "import sys\n",
    "import os\n",
    "import re\n",
    "import numpy\n",
    "#import csv\n",
    "#import cPickle as pickle\n",
    "#import itertools\n",
    "import logging\n",
    "from collections import Counter, defaultdict, OrderedDict\n",
    "import IPython\n",
    "from IPython.display import display, Markdown, HTML\n",
    "def mprint(s):\n",
    "    \"A convenience to format things in Jupyter notebooks via MarkDown syntax\"\n",
    "    display(Markdown(s))\n",
    "\n",
    "# Add $RMGpy to front of your $PYTHONPATH in case you didn't already\n",
    "sys.path.insert(1,os.getenv('RMGpy',os.path.expanduser('~/Code/RMG-Py')))\n",
    "from rmgpy.molecule import Molecule, Atom, Bond\n",
    "#import rmgpy.kinetics\n",
    "#from rmgpy.data.rmg import RMGDatabase\n",
    "#from rmgpy.data.kinetics.library import KineticsLibrary"
   ]
  },
  {
   "cell_type": "code",
   "execution_count": 4,
   "metadata": {},
   "outputs": [
    {
     "data": {
      "image/png": "[encoded data removed]",
      "text/plain": [
       "Molecule(SMILES=\"CC\")"
      ]
     },
     "metadata": {},
     "output_type": "display_data"
    },
    {
     "data": {
      "image/png": "[encoded data removed]",
      "text/plain": [
       "Molecule(SMILES=\"CC\")"
      ]
     },
     "execution_count": 4,
     "metadata": {},
     "output_type": "execute_result"
    }
   ],
   "source": [
    "m = Molecule(SMILES=\"CC\")\n",
    "display(m)\n",
    "m"
   ]
  },
  {
   "cell_type": "code",
   "execution_count": 6,
   "metadata": {},
   "outputs": [
    {
     "data": {
      "text/plain": [
       "{'C': 'X#C',\n",
       " 'C-C': 'X=C=C=X',\n",
       " 'C-CH2': 'X=C=CH2',\n",
       " 'C-CH3': 'X#C-CH3',\n",
       " 'CH': 'X#C-H',\n",
       " 'CH-CH': 'X=CH-CH=X',\n",
       " 'CH-CH-vdw': 'X:CH#CH',\n",
       " 'CH2': 'X=CH2',\n",
       " 'CH2-CH2': 'X-CH2-CH2-X',\n",
       " 'CH3': 'X-CH3',\n",
       " 'CH3-CH3': 'X:CH3-CH3',\n",
       " 'CH4': 'X:CH4',\n",
       " 'CN': 'X=C=N-X',\n",
       " 'CNH': 'X=C=NH',\n",
       " 'CNH2': 'X#C-NH2',\n",
       " 'CO-f': 'X=C=O',\n",
       " 'COH': 'X#C-OH',\n",
       " 'H': 'X-H',\n",
       " 'H2': 'X:H2',\n",
       " 'H2C-CH': 'X-CH2-CH=X',\n",
       " 'H2C-CH3': 'X-CH2-CH3',\n",
       " 'H2C-NH': 'X:CH2=NH',\n",
       " 'H2C-NH2': 'X-CH2-NH2',\n",
       " 'H2C-O': 'X:CH2=O',\n",
       " 'H2C-OH': 'X-CH2-OH',\n",
       " 'H2CN-h': 'X-CH2-N=X',\n",
       " 'H2CNH-h': 'X-CH2-NH-X',\n",
       " 'H2N-NH2': 'X:NH2-NH2',\n",
       " 'H2N-OH': 'X:NH2-OH',\n",
       " 'H2O': 'X:OH2',\n",
       " 'H3C-NH2': 'X:CH3-NH2',\n",
       " 'H3C-OH': 'X:CH3-OH',\n",
       " 'HC-C': 'X-CH=C=X',\n",
       " 'HC-CH2': 'X-CH=CH2',\n",
       " 'HC-CH3': 'X=CH-CH3',\n",
       " 'HCN': 'X:CH#N',\n",
       " 'HCN-h': 'X=CH-N=X',\n",
       " 'HCNH': 'X-CH=NH',\n",
       " 'HCNH-h': 'X=CH-NH-X',\n",
       " 'HCNH2': 'X=CH-NH2',\n",
       " 'HCO': 'X-CH=O',\n",
       " 'HCO-h': 'X=CH-O-X',\n",
       " 'HCOH': 'X=CH-OH',\n",
       " 'HN-CH3': 'X-NH-CH3',\n",
       " 'HN-N-h': 'X-NH-N=X',\n",
       " 'HN-NH': 'X:NH-NH',\n",
       " 'HN-NH-h': 'X-NH-NH-X',\n",
       " 'HN-NH2': 'X-NH-NH2',\n",
       " 'HN-O': 'X:NH=O',\n",
       " 'HN-OH': 'X-NH-OH',\n",
       " 'HNO-h': 'X-NH-O-X',\n",
       " 'HO-OHl': 'X:OH-OH',\n",
       " 'N': 'X#N',\n",
       " 'N-CH2': 'X-N=CH2',\n",
       " 'N-CH3': 'X=N-CH3',\n",
       " 'N-NH': 'X-N=NH',\n",
       " 'N-NH2': 'X=N-NH2l',\n",
       " 'NH': 'X=NH',\n",
       " 'NH2': 'X-NH2',\n",
       " 'NH3': 'X:NH3',\n",
       " 'NN': 'X-N=N-X',\n",
       " 'NO': 'X-N=O',\n",
       " 'NO-h': 'X=N-O-X',\n",
       " 'NOH': 'X=N-OH',\n",
       " 'O': 'X=O',\n",
       " 'O-CH3': 'X-O-CH3',\n",
       " 'O-NH2': 'X-O-NH2',\n",
       " 'O2': 'X-O-O-X',\n",
       " 'OHl': 'X-OH',\n",
       " 'ON-O': 'X-NO=O',\n",
       " 'OOH': 'X-O-OH'}"
      ]
     },
     "execution_count": 6,
     "metadata": {},
     "output_type": "execute_result"
    }
   ],
   "source": [
    "from_github=\"\"\"H\tX-H\n",
    "H2\tX:H2\n",
    "H2O\tX:OH2\n",
    "OHl\tX-OH\n",
    "HO-OHl\tX:OH-OH\n",
    "O2\tX-O-O-X\n",
    "OOH\tX-O-OH\n",
    "O\tX=O\n",
    "O-NH2\tX-O-NH2\n",
    "O-CH3\tX-O-CH3\n",
    "NH3\tX:NH3\n",
    "NH2\tX-NH2\n",
    "NH\tX=NH\n",
    "N\tX#N\n",
    "H2N-OH\tX:NH2-OH\n",
    "HN-O\tX:NH=O\n",
    "HN-OH\tX-NH-OH\n",
    "NO\tX-N=O\n",
    "NOH\tX=N-OH\n",
    "HNO-h\tX-NH-O-X\n",
    "NO-h\tX=N-O-X\n",
    "H2N-NH2\tX:NH2-NH2\n",
    "HN-NH\tX:NH-NH\n",
    "NN\tX-N=N-X\n",
    "HN-NH2\tX-NH-NH2\n",
    "N-NH\tX-N=NH\n",
    "N-NH2\tX=N-NH2l\n",
    "HN-NH-h\tX-NH-NH-X\n",
    "HN-N-h\tX-NH-N=X\n",
    "HN-CH3\tX-NH-CH3\n",
    "N-CH2\tX-N=CH2\n",
    "N-CH3\tX=N-CH3\n",
    "ON-O\tX-NO=O\n",
    "C\tX#C\n",
    "C-C\tX=C=C=X\n",
    "C-CH2\tX=C=CH2\n",
    "C-CH3\tX#C-CH3\n",
    "CH\tX#C-H\n",
    "CH-CH\tX=CH-CH=X\n",
    "CH-CH-vdw\tX:CH#CH\n",
    "CH2\tX=CH2\n",
    "CH2-CH2\tX-CH2-CH2-X\n",
    "CH3\tX-CH3\n",
    "CH3-CH3\tX:CH3-CH3\n",
    "CH4\tX:CH4\n",
    "CN\tX=C=N-X\n",
    "CNH\tX=C=NH\n",
    "CNH2\tX#C-NH2\n",
    "CO-f\tX=C=O\n",
    "COH\tX#C-OH\n",
    "H2C-CH\tX-CH2-CH=X\n",
    "H2C-CH3\tX-CH2-CH3\n",
    "H2C-NH\tX:CH2=NH\n",
    "H2C-NH2\tX-CH2-NH2\n",
    "H2C-O\tX:CH2=O\n",
    "H2C-OH\tX-CH2-OH\n",
    "H2CN-h\tX-CH2-N=X\n",
    "H2CNH-h\tX-CH2-NH-X\n",
    "H3C-NH2\tX:CH3-NH2\n",
    "H3C-OH\tX:CH3-OH\n",
    "HC-C\tX-CH=C=X\n",
    "HC-CH2\tX-CH=CH2\n",
    "HC-CH3\tX=CH-CH3\n",
    "HCN\tX:CH#N\n",
    "HCN-h\tX=CH-N=X\n",
    "HCNH\tX-CH=NH\n",
    "HCNH-h\tX=CH-NH-X\n",
    "HCNH2\tX=CH-NH2\n",
    "HCO\tX-CH=O\n",
    "HCO-h\tX=CH-O-X\n",
    "HCOH\tX=CH-OH\n",
    "\"\"\"\n",
    "\n",
    "names_to_structure = {}\n",
    "for line in from_github.splitlines():\n",
    "    name, structure = line.split()\n",
    "    names_to_structure[name] = structure\n",
    "names_to_structure"
   ]
  },
  {
   "cell_type": "code",
   "execution_count": 77,
   "metadata": {
    "scrolled": false
   },
   "outputs": [
    {
     "name": "stdout",
     "output_type": "stream",
     "text": [
      "OHl\n",
      "X-OH\n",
      "1 X u0 p0 c0 {2,S}\n",
      "2 O u0 p2 c0 {1,S} {3,S}\n",
      "3 H u0 p0 c0 {2,S}\n",
      "\n"
     ]
    },
    {
     "data": {
      "image/png": "[encoded data removed]",
      "text/plain": [
       "Molecule(SMILES=\"O[Ni]\")"
      ]
     },
     "metadata": {},
     "output_type": "display_data"
    },
    {
     "name": "stdout",
     "output_type": "stream",
     "text": [
      "--------------------\n",
      "HN-N-h\n",
      "X-NH-N=X\n",
      "1 X u0 p0 c0 {2,S}\n",
      "2 N u0 p1 c0 {1,S} {3,S} {4,S}\n",
      "3 H u0 p0 c0 {2,S}\n",
      "4 N u0 p1 c0 {2,S} {5,D}\n",
      "5 X u0 p0 c0 {4,D}\n",
      "\n"
     ]
    },
    {
     "data": {
      "image/png": "[encoded data removed]",
      "text/plain": [
       "Molecule(SMILES=\"N(N=*)*\")"
      ]
     },
     "metadata": {},
     "output_type": "display_data"
    },
    {
     "name": "stderr",
     "output_type": "stream",
     "text": [
      "WARNING:root:Could not generate SMILES for this molecule object. Likely due to a keyerror when converting to RDKit Here is molecules AdjList: 1 C u0 p0 c0 {2,vdW} {3,S} {4,S} {5,D}\n",
      "2 X u0 p0 c0 {1,vdW}\n",
      "3 H u0 p0 c0 {1,S}\n",
      "4 H u0 p0 c0 {1,S}\n",
      "5 O u0 p2 c0 {1,D}\n",
      "\n"
     ]
    },
    {
     "name": "stdout",
     "output_type": "stream",
     "text": [
      "--------------------\n",
      "H2C-O\n",
      "X:CH2=O\n",
      "1 X u0 p0 c0 {2,vdW}\n",
      "2 C u0 p0 c0 {1,vdW} {3,S} {4,S} {5,D}\n",
      "3 H u0 p0 c0 {2,S}\n",
      "4 H u0 p0 c0 {2,S}\n",
      "5 O u0 p2 c0 {2,D}\n",
      "\n"
     ]
    },
    {
     "data": {
      "image/png": "[encoded data removed]",
      "text/plain": [
       "Molecule().fromAdjacencyList\"\"\"1 C u0 p0 c0 {2,vdW} {3,S} {4,S} {5,D}\n",
       "2 X u0 p0 c0 {1,vdW}\n",
       "3 H u0 p0 c0 {1,S}\n",
       "4 H u0 p0 c0 {1,S}\n",
       "5 O u0 p2 c0 {1,D}\n",
       "\"\"\""
      ]
     },
     "metadata": {},
     "output_type": "display_data"
    },
    {
     "name": "stderr",
     "output_type": "stream",
     "text": [
      "ERROR:root:oops\n",
      "Traceback (most recent call last):\n",
      "  File \"<ipython-input-77-522007bf145c>\", line 39, in <module>\n",
      "    new_atom.decrementRadical()\n",
      "  File \"rmgpy/molecule/molecule.py\", line 337, in rmgpy.molecule.molecule.Atom.decrementRadical\n",
      "    def decrementRadical(self):\n",
      "  File \"rmgpy/molecule/molecule.py\", line 346, in rmgpy.molecule.molecule.Atom.decrementRadical\n",
      "    raise gr.ActionError('Unable to update Atom due to LOSE_RADICAL action: Invalid radical electron set \"{0}\".'.format(self.radicalElectrons))\n",
      "ActionError: Unable to update Atom due to LOSE_RADICAL action: Invalid radical electron set \"-1\".\n",
      "ERROR:root:oops\n",
      "Traceback (most recent call last):\n",
      "  File \"<ipython-input-77-522007bf145c>\", line 32, in <module>\n",
      "    group_mol = Molecule(SMILES='[{}]'.format(group_atoms))\n",
      "  File \"rmgpy/molecule/molecule.py\", line 715, in rmgpy.molecule.molecule.Molecule.__init__\n",
      "    if SMILES != '': self.fromSMILES(SMILES)\n",
      "  File \"rmgpy/molecule/molecule.py\", line 1395, in rmgpy.molecule.molecule.Molecule.fromSMILES\n",
      "    parser.fromSMILES(self, smilesstr, backend)\n",
      "  File \"rmgpy/molecule/parser.py\", line 346, in rmgpy.molecule.parser.fromSMILES\n",
      "    def fromSMILES(mol, smilesstr, backend='try-all'):\n",
      "  File \"rmgpy/molecule/parser.py\", line 352, in rmgpy.molecule.parser.fromSMILES\n",
      "    return __parse(mol, smilesstr, 'smi', backend)\n",
      "  File \"rmgpy/molecule/parser.py\", line 157, in rmgpy.molecule.parser.__parse\n",
      "    __fromSMILES(mol, identifier, _backend)\n",
      "  File \"rmgpy/molecule/parser.py\", line 104, in rmgpy.molecule.parser.__fromSMILES\n",
      "    raise ValueError(\"Could not interpret the SMILES string {0!r}\".format(smilesstr))\n",
      "ValueError: Could not interpret the SMILES string '[NO]'\n",
      "ERROR:root:oops\n",
      "Traceback (most recent call last):\n",
      "  File \"<ipython-input-77-522007bf145c>\", line 39, in <module>\n",
      "    new_atom.decrementRadical()\n",
      "  File \"rmgpy/molecule/molecule.py\", line 337, in rmgpy.molecule.molecule.Atom.decrementRadical\n",
      "    def decrementRadical(self):\n",
      "  File \"rmgpy/molecule/molecule.py\", line 346, in rmgpy.molecule.molecule.Atom.decrementRadical\n",
      "    raise gr.ActionError('Unable to update Atom due to LOSE_RADICAL action: Invalid radical electron set \"{0}\".'.format(self.radicalElectrons))\n",
      "ActionError: Unable to update Atom due to LOSE_RADICAL action: Invalid radical electron set \"-1\".\n"
     ]
    },
    {
     "name": "stdout",
     "output_type": "stream",
     "text": [
      "--------------------\n",
      "CH-CH\n",
      "X=CH-CH=X\n",
      "--------------------\n",
      "ON-O\n",
      "X-NO=O\n",
      "--------------------\n",
      "HCO-h\n",
      "X=CH-O-X\n",
      "--------------------\n",
      "HN-OH\n",
      "X-NH-OH\n",
      "1 X u0 p0 c0 {2,S}\n",
      "2 N u0 p1 c0 {1,S} {3,S} {4,S}\n",
      "3 H u0 p0 c0 {2,S}\n",
      "4 O u0 p2 c0 {2,S} {5,S}\n",
      "5 H u0 p0 c0 {4,S}\n",
      "\n"
     ]
    },
    {
     "data": {
      "image/png": "[encoded data removed]",
      "text/plain": [
       "Molecule(SMILES=\"N(O)*\")"
      ]
     },
     "metadata": {},
     "output_type": "display_data"
    },
    {
     "name": "stdout",
     "output_type": "stream",
     "text": [
      "--------------------\n",
      "H2C-OH\n",
      "X-CH2-OH\n",
      "1 X u0 p0 c0 {2,S}\n",
      "2 C u0 p0 c0 {1,S} {3,S} {4,S} {5,S}\n",
      "3 H u0 p0 c0 {2,S}\n",
      "4 H u0 p0 c0 {2,S}\n",
      "5 O u0 p2 c0 {2,S} {6,S}\n",
      "6 H u0 p0 c0 {5,S}\n",
      "\n"
     ]
    },
    {
     "data": {
      "image/png": "[encoded data removed]",
      "text/plain": [
       "Molecule(SMILES=\"OC[Ni]\")"
      ]
     },
     "metadata": {},
     "output_type": "display_data"
    },
    {
     "name": "stdout",
     "output_type": "stream",
     "text": [
      "--------------------\n",
      "H2C-NH2\n",
      "X-CH2-NH2\n",
      "1 X u0 p0 c0 {2,S}\n",
      "2 C u0 p0 c0 {1,S} {3,S} {4,S} {5,S}\n",
      "3 H u0 p0 c0 {2,S}\n",
      "4 H u0 p0 c0 {2,S}\n",
      "5 N u0 p1 c0 {2,S} {6,S} {7,S}\n",
      "6 H u0 p0 c0 {5,S}\n",
      "7 H u0 p0 c0 {5,S}\n",
      "\n"
     ]
    },
    {
     "data": {
      "image/png": "[encoded data removed]",
      "text/plain": [
       "Molecule(SMILES=\"C(N)*\")"
      ]
     },
     "metadata": {},
     "output_type": "display_data"
    },
    {
     "name": "stdout",
     "output_type": "stream",
     "text": [
      "--------------------\n",
      "CH3\n",
      "X-CH3\n",
      "1 X u0 p0 c0 {2,S}\n",
      "2 C u0 p0 c0 {1,S} {3,S} {4,S} {5,S}\n",
      "3 H u0 p0 c0 {2,S}\n",
      "4 H u0 p0 c0 {2,S}\n",
      "5 H u0 p0 c0 {2,S}\n",
      "\n"
     ]
    },
    {
     "data": {
      "image/png": "[encoded data removed]",
      "text/plain": [
       "Molecule(SMILES=\"C[Ni]\")"
      ]
     },
     "metadata": {},
     "output_type": "display_data"
    },
    {
     "name": "stderr",
     "output_type": "stream",
     "text": [
      "ERROR:root:oops\n",
      "Traceback (most recent call last):\n",
      "  File \"<ipython-input-77-522007bf145c>\", line 39, in <module>\n",
      "    new_atom.decrementRadical()\n",
      "  File \"rmgpy/molecule/molecule.py\", line 337, in rmgpy.molecule.molecule.Atom.decrementRadical\n",
      "    def decrementRadical(self):\n",
      "  File \"rmgpy/molecule/molecule.py\", line 346, in rmgpy.molecule.molecule.Atom.decrementRadical\n",
      "    raise gr.ActionError('Unable to update Atom due to LOSE_RADICAL action: Invalid radical electron set \"{0}\".'.format(self.radicalElectrons))\n",
      "ActionError: Unable to update Atom due to LOSE_RADICAL action: Invalid radical electron set \"-1\".\n",
      "ERROR:root:oops\n",
      "Traceback (most recent call last):\n",
      "  File \"<ipython-input-77-522007bf145c>\", line 39, in <module>\n",
      "    new_atom.decrementRadical()\n",
      "  File \"rmgpy/molecule/molecule.py\", line 337, in rmgpy.molecule.molecule.Atom.decrementRadical\n",
      "    def decrementRadical(self):\n",
      "  File \"rmgpy/molecule/molecule.py\", line 346, in rmgpy.molecule.molecule.Atom.decrementRadical\n",
      "    raise gr.ActionError('Unable to update Atom due to LOSE_RADICAL action: Invalid radical electron set \"{0}\".'.format(self.radicalElectrons))\n",
      "ActionError: Unable to update Atom due to LOSE_RADICAL action: Invalid radical electron set \"-1\".\n",
      "ERROR:root:oops\n",
      "Traceback (most recent call last):\n",
      "  File \"<ipython-input-77-522007bf145c>\", line 39, in <module>\n",
      "    new_atom.decrementRadical()\n",
      "  File \"rmgpy/molecule/molecule.py\", line 337, in rmgpy.molecule.molecule.Atom.decrementRadical\n",
      "    def decrementRadical(self):\n",
      "  File \"rmgpy/molecule/molecule.py\", line 346, in rmgpy.molecule.molecule.Atom.decrementRadical\n",
      "    raise gr.ActionError('Unable to update Atom due to LOSE_RADICAL action: Invalid radical electron set \"{0}\".'.format(self.radicalElectrons))\n",
      "ActionError: Unable to update Atom due to LOSE_RADICAL action: Invalid radical electron set \"-1\".\n"
     ]
    },
    {
     "name": "stdout",
     "output_type": "stream",
     "text": [
      "--------------------\n",
      "HC-CH3\n",
      "X=CH-CH3\n",
      "--------------------\n",
      "HCNH-h\n",
      "X=CH-NH-X\n",
      "--------------------\n",
      "COH\n",
      "X#C-OH\n",
      "--------------------\n",
      "CH2-CH2\n",
      "X-CH2-CH2-X\n",
      "1 X u0 p0 c0 {2,S}\n",
      "2 C u0 p0 c0 {1,S} {3,S} {4,S} {5,S}\n",
      "3 H u0 p0 c0 {2,S}\n",
      "4 H u0 p0 c0 {2,S}\n",
      "5 C u0 p0 c0 {2,S} {6,S} {7,S} {8,S}\n",
      "6 H u0 p0 c0 {5,S}\n",
      "7 H u0 p0 c0 {5,S}\n",
      "8 X u0 p0 c0 {5,S}\n",
      "\n"
     ]
    },
    {
     "data": {
      "image/png": "[encoded data removed]",
      "text/plain": [
       "Molecule(SMILES=\"[Ni]CC[Ni]\")"
      ]
     },
     "metadata": {},
     "output_type": "display_data"
    },
    {
     "name": "stdout",
     "output_type": "stream",
     "text": [
      "--------------------\n",
      "O2\n",
      "X-O-O-X\n",
      "1 X u0 p0 c0 {2,S}\n",
      "2 O u0 p2 c0 {1,S} {3,S}\n",
      "3 O u0 p2 c0 {2,S} {4,S}\n",
      "4 X u0 p0 c0 {3,S}\n",
      "\n"
     ]
    },
    {
     "data": {
      "image/png": "[encoded data removed]",
      "text/plain": [
       "Molecule(SMILES=\"[Ni]OO[Ni]\")"
      ]
     },
     "metadata": {},
     "output_type": "display_data"
    },
    {
     "name": "stdout",
     "output_type": "stream",
     "text": [
      "--------------------\n",
      "NH\n",
      "X=NH\n",
      "1 X u0 p0 c0 {2,D}\n",
      "2 N u0 p1 c0 {1,D} {3,S}\n",
      "3 H u0 p0 c0 {2,S}\n",
      "\n"
     ]
    },
    {
     "data": {
      "image/png": "[encoded data removed]",
      "text/plain": [
       "Molecule(SMILES=\"N=*\")"
      ]
     },
     "metadata": {},
     "output_type": "display_data"
    },
    {
     "name": "stdout",
     "output_type": "stream",
     "text": [
      "--------------------\n",
      "H2CNH-h\n",
      "X-CH2-NH-X\n",
      "1 X u0 p0 c0 {2,S}\n",
      "2 C u0 p0 c0 {1,S} {3,S} {4,S} {5,S}\n",
      "3 H u0 p0 c0 {2,S}\n",
      "4 H u0 p0 c0 {2,S}\n",
      "5 N u0 p1 c0 {2,S} {6,S} {7,S}\n",
      "6 H u0 p0 c0 {5,S}\n",
      "7 X u0 p0 c0 {5,S}\n",
      "\n"
     ]
    },
    {
     "data": {
      "image/png": "[encoded data removed]",
      "text/plain": [
       "Molecule(SMILES=\"C(N*)*\")"
      ]
     },
     "metadata": {},
     "output_type": "display_data"
    },
    {
     "name": "stderr",
     "output_type": "stream",
     "text": [
      "WARNING:root:Could not generate SMILES for this molecule object. Likely due to a keyerror when converting to RDKit Here is molecules AdjList: 1 C u0 p0 c0 {2,S} {3,vdW} {4,S} {5,S} {6,S}\n",
      "2 O u0 p2 c0 {1,S} {7,S}\n",
      "3 X u0 p0 c0 {1,vdW}\n",
      "4 H u0 p0 c0 {1,S}\n",
      "5 H u0 p0 c0 {1,S}\n",
      "6 H u0 p0 c0 {1,S}\n",
      "7 H u0 p0 c0 {2,S}\n",
      "\n"
     ]
    },
    {
     "name": "stdout",
     "output_type": "stream",
     "text": [
      "--------------------\n",
      "H3C-OH\n",
      "X:CH3-OH\n",
      "1 X u0 p0 c0 {2,vdW}\n",
      "2 C u0 p0 c0 {1,vdW} {3,S} {4,S} {5,S} {6,S}\n",
      "3 H u0 p0 c0 {2,S}\n",
      "4 H u0 p0 c0 {2,S}\n",
      "5 H u0 p0 c0 {2,S}\n",
      "6 O u0 p2 c0 {2,S} {7,S}\n",
      "7 H u0 p0 c0 {6,S}\n",
      "\n"
     ]
    },
    {
     "data": {
      "image/png": "[encoded data removed]",
      "text/plain": [
       "Molecule().fromAdjacencyList\"\"\"1 C u0 p0 c0 {2,S} {3,vdW} {4,S} {5,S} {6,S}\n",
       "2 O u0 p2 c0 {1,S} {7,S}\n",
       "3 X u0 p0 c0 {1,vdW}\n",
       "4 H u0 p0 c0 {1,S}\n",
       "5 H u0 p0 c0 {1,S}\n",
       "6 H u0 p0 c0 {1,S}\n",
       "7 H u0 p0 c0 {2,S}\n",
       "\"\"\""
      ]
     },
     "metadata": {},
     "output_type": "display_data"
    },
    {
     "name": "stderr",
     "output_type": "stream",
     "text": [
      "WARNING:root:Could not generate SMILES for this molecule object. Likely due to a keyerror when converting to RDKit Here is molecules AdjList: 1 N u0 p1 c0 {2,S} {3,vdW} {4,S} {5,S}\n",
      "2 O u0 p2 c0 {1,S} {6,S}\n",
      "3 X u0 p0 c0 {1,vdW}\n",
      "4 H u0 p0 c0 {1,S}\n",
      "5 H u0 p0 c0 {1,S}\n",
      "6 H u0 p0 c0 {2,S}\n",
      "\n"
     ]
    },
    {
     "name": "stdout",
     "output_type": "stream",
     "text": [
      "--------------------\n",
      "H2N-OH\n",
      "X:NH2-OH\n",
      "1 X u0 p0 c0 {2,vdW}\n",
      "2 N u0 p1 c0 {1,vdW} {3,S} {4,S} {5,S}\n",
      "3 H u0 p0 c0 {2,S}\n",
      "4 H u0 p0 c0 {2,S}\n",
      "5 O u0 p2 c0 {2,S} {6,S}\n",
      "6 H u0 p0 c0 {5,S}\n",
      "\n"
     ]
    },
    {
     "data": {
      "image/png": "[encoded data removed]",
      "text/plain": [
       "Molecule().fromAdjacencyList\"\"\"1 N u0 p1 c0 {2,S} {3,vdW} {4,S} {5,S}\n",
       "2 O u0 p2 c0 {1,S} {6,S}\n",
       "3 X u0 p0 c0 {1,vdW}\n",
       "4 H u0 p0 c0 {1,S}\n",
       "5 H u0 p0 c0 {1,S}\n",
       "6 H u0 p0 c0 {2,S}\n",
       "\"\"\""
      ]
     },
     "metadata": {},
     "output_type": "display_data"
    },
    {
     "name": "stdout",
     "output_type": "stream",
     "text": [
      "--------------------\n",
      "NO\n",
      "X-N=O\n",
      "1 X u0 p0 c0 {2,S}\n",
      "2 N u0 p1 c0 {1,S} {3,D}\n",
      "3 O u0 p2 c0 {2,D}\n",
      "\n"
     ]
    },
    {
     "data": {
      "image/png": "[encoded data removed]",
      "text/plain": [
       "Molecule(SMILES=\"N(=O)*\")"
      ]
     },
     "metadata": {},
     "output_type": "display_data"
    },
    {
     "name": "stderr",
     "output_type": "stream",
     "text": [
      "ERROR:root:oops\n",
      "Traceback (most recent call last):\n",
      "  File \"<ipython-input-77-522007bf145c>\", line 41, in <module>\n",
      "    old_atom.decrementRadical()\n",
      "  File \"rmgpy/molecule/molecule.py\", line 337, in rmgpy.molecule.molecule.Atom.decrementRadical\n",
      "    def decrementRadical(self):\n",
      "  File \"rmgpy/molecule/molecule.py\", line 346, in rmgpy.molecule.molecule.Atom.decrementRadical\n",
      "    raise gr.ActionError('Unable to update Atom due to LOSE_RADICAL action: Invalid radical electron set \"{0}\".'.format(self.radicalElectrons))\n",
      "ActionError: Unable to update Atom due to LOSE_RADICAL action: Invalid radical electron set \"-1\".\n",
      "ERROR:root:oops\n",
      "Traceback (most recent call last):\n",
      "  File \"<ipython-input-77-522007bf145c>\", line 41, in <module>\n",
      "    old_atom.decrementRadical()\n",
      "  File \"rmgpy/molecule/molecule.py\", line 337, in rmgpy.molecule.molecule.Atom.decrementRadical\n",
      "    def decrementRadical(self):\n",
      "  File \"rmgpy/molecule/molecule.py\", line 346, in rmgpy.molecule.molecule.Atom.decrementRadical\n",
      "    raise gr.ActionError('Unable to update Atom due to LOSE_RADICAL action: Invalid radical electron set \"{0}\".'.format(self.radicalElectrons))\n",
      "ActionError: Unable to update Atom due to LOSE_RADICAL action: Invalid radical electron set \"-1\".\n",
      "WARNING:root:Could not generate SMILES for this molecule object. Likely due to a keyerror when converting to RDKit Here is molecules AdjList: 1 O u0 p2 c0 {2,S} {3,vdW} {4,S}\n",
      "2 O u0 p2 c0 {1,S} {5,S}\n",
      "3 X u0 p0 c0 {1,vdW}\n",
      "4 H u0 p0 c0 {1,S}\n",
      "5 H u0 p0 c0 {2,S}\n",
      "\n"
     ]
    },
    {
     "name": "stdout",
     "output_type": "stream",
     "text": [
      "--------------------\n",
      "H2C-CH\n",
      "X-CH2-CH=X\n",
      "--------------------\n",
      "C-C\n",
      "X=C=C=X\n",
      "--------------------\n",
      "HO-OHl\n",
      "X:OH-OH\n",
      "1 X u0 p0 c0 {2,vdW}\n",
      "2 O u0 p2 c0 {1,vdW} {3,S} {4,S}\n",
      "3 H u0 p0 c0 {2,S}\n",
      "4 O u0 p2 c0 {2,S} {5,S}\n",
      "5 H u0 p0 c0 {4,S}\n",
      "\n"
     ]
    },
    {
     "data": {
      "image/png": "[encoded data removed]",
      "text/plain": [
       "Molecule().fromAdjacencyList\"\"\"1 O u0 p2 c0 {2,S} {3,vdW} {4,S}\n",
       "2 O u0 p2 c0 {1,S} {5,S}\n",
       "3 X u0 p0 c0 {1,vdW}\n",
       "4 H u0 p0 c0 {1,S}\n",
       "5 H u0 p0 c0 {2,S}\n",
       "\"\"\""
      ]
     },
     "metadata": {},
     "output_type": "display_data"
    },
    {
     "name": "stdout",
     "output_type": "stream",
     "text": [
      "--------------------\n",
      "N-NH\n",
      "X-N=NH\n",
      "1 X u0 p0 c0 {2,S}\n",
      "2 N u0 p1 c0 {1,S} {3,D}\n",
      "3 N u0 p1 c0 {2,D} {4,S}\n",
      "4 H u0 p0 c0 {3,S}\n",
      "\n"
     ]
    },
    {
     "data": {
      "image/png": "[encoded data removed]",
      "text/plain": [
       "Molecule(SMILES=\"N(=N)*\")"
      ]
     },
     "metadata": {},
     "output_type": "display_data"
    },
    {
     "name": "stderr",
     "output_type": "stream",
     "text": [
      "ERROR:root:oops\n",
      "Traceback (most recent call last):\n",
      "  File \"<ipython-input-77-522007bf145c>\", line 39, in <module>\n",
      "    new_atom.decrementRadical()\n",
      "  File \"rmgpy/molecule/molecule.py\", line 337, in rmgpy.molecule.molecule.Atom.decrementRadical\n",
      "    def decrementRadical(self):\n",
      "  File \"rmgpy/molecule/molecule.py\", line 346, in rmgpy.molecule.molecule.Atom.decrementRadical\n",
      "    raise gr.ActionError('Unable to update Atom due to LOSE_RADICAL action: Invalid radical electron set \"{0}\".'.format(self.radicalElectrons))\n",
      "ActionError: Unable to update Atom due to LOSE_RADICAL action: Invalid radical electron set \"-1\".\n"
     ]
    },
    {
     "name": "stdout",
     "output_type": "stream",
     "text": [
      "--------------------\n",
      "HCNH2\n",
      "X=CH-NH2\n",
      "--------------------\n",
      "CH2\n",
      "X=CH2\n",
      "1 X u0 p0 c0 {2,D}\n",
      "2 C u0 p0 c0 {1,D} {3,S} {4,S}\n",
      "3 H u0 p0 c0 {2,S}\n",
      "4 H u0 p0 c0 {2,S}\n",
      "\n"
     ]
    },
    {
     "data": {
      "image/png": "[encoded data removed]",
      "text/plain": [
       "Molecule(SMILES=\"C=[Ni]\")"
      ]
     },
     "metadata": {},
     "output_type": "display_data"
    },
    {
     "name": "stdout",
     "output_type": "stream",
     "text": [
      "--------------------\n",
      "HNO-h\n",
      "X-NH-O-X\n",
      "1 X u0 p0 c0 {2,S}\n",
      "2 N u0 p1 c0 {1,S} {3,S} {4,S}\n",
      "3 H u0 p0 c0 {2,S}\n",
      "4 O u0 p2 c0 {2,S} {5,S}\n",
      "5 X u0 p0 c0 {4,S}\n",
      "\n"
     ]
    },
    {
     "data": {
      "image/png": "[encoded data removed]",
      "text/plain": [
       "Molecule(SMILES=\"N(O*)*\")"
      ]
     },
     "metadata": {},
     "output_type": "display_data"
    },
    {
     "name": "stderr",
     "output_type": "stream",
     "text": [
      "WARNING:root:Could not generate SMILES for this molecule object. Likely due to a keyerror when converting to RDKit Here is molecules AdjList: 1 C u0 p0 c0 {2,vdW} {3,S} {4,S} {5,S} {6,S}\n",
      "2 X u0 p0 c0 {1,vdW}\n",
      "3 H u0 p0 c0 {1,S}\n",
      "4 H u0 p0 c0 {1,S}\n",
      "5 H u0 p0 c0 {1,S}\n",
      "6 H u0 p0 c0 {1,S}\n",
      "\n"
     ]
    },
    {
     "name": "stdout",
     "output_type": "stream",
     "text": [
      "--------------------\n",
      "CH4\n",
      "X:CH4\n",
      "1 X u0 p0 c0 {2,vdW}\n",
      "2 C u0 p0 c0 {1,vdW} {3,S} {4,S} {5,S} {6,S}\n",
      "3 H u0 p0 c0 {2,S}\n",
      "4 H u0 p0 c0 {2,S}\n",
      "5 H u0 p0 c0 {2,S}\n",
      "6 H u0 p0 c0 {2,S}\n",
      "\n"
     ]
    },
    {
     "data": {
      "image/png": "[encoded data removed]",
      "text/plain": [
       "Molecule().fromAdjacencyList\"\"\"1 C u0 p0 c0 {2,vdW} {3,S} {4,S} {5,S} {6,S}\n",
       "2 X u0 p0 c0 {1,vdW}\n",
       "3 H u0 p0 c0 {1,S}\n",
       "4 H u0 p0 c0 {1,S}\n",
       "5 H u0 p0 c0 {1,S}\n",
       "6 H u0 p0 c0 {1,S}\n",
       "\"\"\""
      ]
     },
     "metadata": {},
     "output_type": "display_data"
    },
    {
     "name": "stdout",
     "output_type": "stream",
     "text": [
      "--------------------\n",
      "O-CH3\n",
      "X-O-CH3\n",
      "1 X u0 p0 c0 {2,S}\n",
      "2 O u0 p2 c0 {1,S} {3,S}\n",
      "3 C u0 p0 c0 {2,S} {4,S} {5,S} {6,S}\n",
      "4 H u0 p0 c0 {3,S}\n",
      "5 H u0 p0 c0 {3,S}\n",
      "6 H u0 p0 c0 {3,S}\n",
      "\n"
     ]
    },
    {
     "data": {
      "image/png": "[encoded data removed]",
      "text/plain": [
       "Molecule(SMILES=\"CO[Ni]\")"
      ]
     },
     "metadata": {},
     "output_type": "display_data"
    },
    {
     "name": "stdout",
     "output_type": "stream",
     "text": [
      "--------------------\n",
      "HN-NH2\n",
      "X-NH-NH2\n",
      "1 X u0 p0 c0 {2,S}\n",
      "2 N u0 p1 c0 {1,S} {3,S} {4,S}\n",
      "3 H u0 p0 c0 {2,S}\n",
      "4 N u0 p1 c0 {2,S} {5,S} {6,S}\n",
      "5 H u0 p0 c0 {4,S}\n",
      "6 H u0 p0 c0 {4,S}\n",
      "\n"
     ]
    },
    {
     "data": {
      "image/png": "[encoded data removed]",
      "text/plain": [
       "Molecule(SMILES=\"N(N)*\")"
      ]
     },
     "metadata": {},
     "output_type": "display_data"
    },
    {
     "name": "stderr",
     "output_type": "stream",
     "text": [
      "ERROR:root:oops\n",
      "Traceback (most recent call last):\n",
      "  File \"<ipython-input-77-522007bf145c>\", line 41, in <module>\n",
      "    old_atom.decrementRadical()\n",
      "  File \"rmgpy/molecule/molecule.py\", line 337, in rmgpy.molecule.molecule.Atom.decrementRadical\n",
      "    def decrementRadical(self):\n",
      "  File \"rmgpy/molecule/molecule.py\", line 346, in rmgpy.molecule.molecule.Atom.decrementRadical\n",
      "    raise gr.ActionError('Unable to update Atom due to LOSE_RADICAL action: Invalid radical electron set \"{0}\".'.format(self.radicalElectrons))\n",
      "ActionError: Unable to update Atom due to LOSE_RADICAL action: Invalid radical electron set \"-1\".\n"
     ]
    },
    {
     "name": "stdout",
     "output_type": "stream",
     "text": [
      "--------------------\n",
      "CO-f\n",
      "X=C=O\n",
      "--------------------\n",
      "N-NH2\n",
      "X=N-NH2l\n",
      "1 X u0 p0 c0 {2,D}\n",
      "2 N u0 p1 c0 {1,D} {3,S}\n",
      "3 N u0 p1 c0 {2,S} {4,S} {5,S}\n",
      "4 H u0 p0 c0 {3,S}\n",
      "5 H u0 p0 c0 {3,S}\n",
      "\n"
     ]
    },
    {
     "data": {
      "image/png": "[encoded data removed]",
      "text/plain": [
       "Molecule(SMILES=\"NN=*\")"
      ]
     },
     "metadata": {},
     "output_type": "display_data"
    },
    {
     "name": "stderr",
     "output_type": "stream",
     "text": [
      "ERROR:root:oops\n",
      "Traceback (most recent call last):\n",
      "  File \"<ipython-input-77-522007bf145c>\", line 39, in <module>\n",
      "    new_atom.decrementRadical()\n",
      "  File \"rmgpy/molecule/molecule.py\", line 337, in rmgpy.molecule.molecule.Atom.decrementRadical\n",
      "    def decrementRadical(self):\n",
      "  File \"rmgpy/molecule/molecule.py\", line 346, in rmgpy.molecule.molecule.Atom.decrementRadical\n",
      "    raise gr.ActionError('Unable to update Atom due to LOSE_RADICAL action: Invalid radical electron set \"{0}\".'.format(self.radicalElectrons))\n",
      "ActionError: Unable to update Atom due to LOSE_RADICAL action: Invalid radical electron set \"-1\".\n"
     ]
    },
    {
     "name": "stdout",
     "output_type": "stream",
     "text": [
      "--------------------\n",
      "HCN-h\n",
      "X=CH-N=X\n",
      "--------------------\n",
      "H2C-CH3\n",
      "X-CH2-CH3\n",
      "1 X u0 p0 c0 {2,S}\n",
      "2 C u0 p0 c0 {1,S} {3,S} {4,S} {5,S}\n",
      "3 H u0 p0 c0 {2,S}\n",
      "4 H u0 p0 c0 {2,S}\n",
      "5 C u0 p0 c0 {2,S} {6,S} {7,S} {8,S}\n",
      "6 H u0 p0 c0 {5,S}\n",
      "7 H u0 p0 c0 {5,S}\n",
      "8 H u0 p0 c0 {5,S}\n",
      "\n"
     ]
    },
    {
     "data": {
      "image/png": "[encoded data removed]",
      "text/plain": [
       "Molecule(SMILES=\"CC[Ni]\")"
      ]
     },
     "metadata": {},
     "output_type": "display_data"
    },
    {
     "name": "stderr",
     "output_type": "stream",
     "text": [
      "ERROR:root:oops\n",
      "Traceback (most recent call last):\n",
      "  File \"<ipython-input-77-522007bf145c>\", line 39, in <module>\n",
      "    new_atom.decrementRadical()\n",
      "  File \"rmgpy/molecule/molecule.py\", line 337, in rmgpy.molecule.molecule.Atom.decrementRadical\n",
      "    def decrementRadical(self):\n",
      "  File \"rmgpy/molecule/molecule.py\", line 346, in rmgpy.molecule.molecule.Atom.decrementRadical\n",
      "    raise gr.ActionError('Unable to update Atom due to LOSE_RADICAL action: Invalid radical electron set \"{0}\".'.format(self.radicalElectrons))\n",
      "ActionError: Unable to update Atom due to LOSE_RADICAL action: Invalid radical electron set \"-1\".\n",
      "ERROR:root:oops\n",
      "Traceback (most recent call last):\n",
      "  File \"<ipython-input-77-522007bf145c>\", line 39, in <module>\n",
      "    new_atom.decrementRadical()\n",
      "  File \"rmgpy/molecule/molecule.py\", line 337, in rmgpy.molecule.molecule.Atom.decrementRadical\n",
      "    def decrementRadical(self):\n",
      "  File \"rmgpy/molecule/molecule.py\", line 346, in rmgpy.molecule.molecule.Atom.decrementRadical\n",
      "    raise gr.ActionError('Unable to update Atom due to LOSE_RADICAL action: Invalid radical electron set \"{0}\".'.format(self.radicalElectrons))\n",
      "ActionError: Unable to update Atom due to LOSE_RADICAL action: Invalid radical electron set \"-1\".\n",
      "WARNING:root:Could not generate SMILES for this molecule object. Likely due to a keyerror when converting to RDKit Here is molecules AdjList: multiplicity 3\n",
      "1 N u1 p1 c0 {2,S} {3,vdW} {4,S}\n",
      "2 N u1 p1 c0 {1,S} {5,S}\n",
      "3 X u0 p0 c0 {1,vdW}\n",
      "4 H u0 p0 c0 {1,S}\n",
      "5 H u0 p0 c0 {2,S}\n",
      "\n"
     ]
    },
    {
     "name": "stdout",
     "output_type": "stream",
     "text": [
      "--------------------\n",
      "C\n",
      "X#C\n",
      "--------------------\n",
      "CH\n",
      "X#C-H\n",
      "--------------------\n",
      "HN-NH\n",
      "X:NH-NH\n",
      "multiplicity 3\n",
      "1 X u0 p0 c0 {2,vdW}\n",
      "2 N u1 p1 c0 {1,vdW} {3,S} {4,S}\n",
      "3 H u0 p0 c0 {2,S}\n",
      "4 N u1 p1 c0 {2,S} {5,S}\n",
      "5 H u0 p0 c0 {4,S}\n",
      "\n"
     ]
    },
    {
     "data": {
      "image/png": "[encoded data removed]",
      "text/plain": [
       "Molecule().fromAdjacencyList\"\"\"multiplicity 3\n",
       "1 N u1 p1 c0 {2,S} {3,vdW} {4,S}\n",
       "2 N u1 p1 c0 {1,S} {5,S}\n",
       "3 X u0 p0 c0 {1,vdW}\n",
       "4 H u0 p0 c0 {1,S}\n",
       "5 H u0 p0 c0 {2,S}\n",
       "\"\"\""
      ]
     },
     "metadata": {},
     "output_type": "display_data"
    },
    {
     "name": "stderr",
     "output_type": "stream",
     "text": [
      "ERROR:root:oops\n",
      "Traceback (most recent call last):\n",
      "  File \"<ipython-input-77-522007bf145c>\", line 41, in <module>\n",
      "    old_atom.decrementRadical()\n",
      "  File \"rmgpy/molecule/molecule.py\", line 337, in rmgpy.molecule.molecule.Atom.decrementRadical\n",
      "    def decrementRadical(self):\n",
      "  File \"rmgpy/molecule/molecule.py\", line 346, in rmgpy.molecule.molecule.Atom.decrementRadical\n",
      "    raise gr.ActionError('Unable to update Atom due to LOSE_RADICAL action: Invalid radical electron set \"{0}\".'.format(self.radicalElectrons))\n",
      "ActionError: Unable to update Atom due to LOSE_RADICAL action: Invalid radical electron set \"-1\".\n",
      "WARNING:root:Could not generate SMILES for this molecule object. Likely due to a keyerror when converting to RDKit Here is molecules AdjList: 1 N u0 p1 c0 {2,vdW} {3,S} {4,D}\n",
      "2 X u0 p0 c0 {1,vdW}\n",
      "3 H u0 p0 c0 {1,S}\n",
      "4 O u0 p2 c0 {1,D}\n",
      "\n"
     ]
    },
    {
     "name": "stdout",
     "output_type": "stream",
     "text": [
      "--------------------\n",
      "CN\n",
      "X=C=N-X\n",
      "--------------------\n",
      "HN-O\n",
      "X:NH=O\n",
      "1 X u0 p0 c0 {2,vdW}\n",
      "2 N u0 p1 c0 {1,vdW} {3,S} {4,D}\n",
      "3 H u0 p0 c0 {2,S}\n",
      "4 O u0 p2 c0 {2,D}\n",
      "\n"
     ]
    },
    {
     "data": {
      "image/png": "[encoded data removed]",
      "text/plain": [
       "Molecule().fromAdjacencyList\"\"\"1 N u0 p1 c0 {2,vdW} {3,S} {4,D}\n",
       "2 X u0 p0 c0 {1,vdW}\n",
       "3 H u0 p0 c0 {1,S}\n",
       "4 O u0 p2 c0 {1,D}\n",
       "\"\"\""
      ]
     },
     "metadata": {},
     "output_type": "display_data"
    },
    {
     "name": "stderr",
     "output_type": "stream",
     "text": [
      "WARNING:root:Could not generate SMILES for this molecule object. Likely due to a keyerror when converting to RDKit Here is molecules AdjList: 1 C u0 p0 c0 {2,S} {3,vdW} {4,S} {5,S} {6,S}\n",
      "2 C u0 p0 c0 {1,S} {7,S} {8,S} {9,S}\n",
      "3 X u0 p0 c0 {1,vdW}\n",
      "4 H u0 p0 c0 {1,S}\n",
      "5 H u0 p0 c0 {1,S}\n",
      "6 H u0 p0 c0 {1,S}\n",
      "7 H u0 p0 c0 {2,S}\n",
      "8 H u0 p0 c0 {2,S}\n",
      "9 H u0 p0 c0 {2,S}\n",
      "\n"
     ]
    },
    {
     "name": "stdout",
     "output_type": "stream",
     "text": [
      "--------------------\n",
      "CH3-CH3\n",
      "X:CH3-CH3\n",
      "1 X u0 p0 c0 {2,vdW}\n",
      "2 C u0 p0 c0 {1,vdW} {3,S} {4,S} {5,S} {6,S}\n",
      "3 H u0 p0 c0 {2,S}\n",
      "4 H u0 p0 c0 {2,S}\n",
      "5 H u0 p0 c0 {2,S}\n",
      "6 C u0 p0 c0 {2,S} {7,S} {8,S} {9,S}\n",
      "7 H u0 p0 c0 {6,S}\n",
      "8 H u0 p0 c0 {6,S}\n",
      "9 H u0 p0 c0 {6,S}\n",
      "\n"
     ]
    },
    {
     "data": {
      "image/png": "[encoded data removed]",
      "text/plain": [
       "Molecule().fromAdjacencyList\"\"\"1 C u0 p0 c0 {2,S} {3,vdW} {4,S} {5,S} {6,S}\n",
       "2 C u0 p0 c0 {1,S} {7,S} {8,S} {9,S}\n",
       "3 X u0 p0 c0 {1,vdW}\n",
       "4 H u0 p0 c0 {1,S}\n",
       "5 H u0 p0 c0 {1,S}\n",
       "6 H u0 p0 c0 {1,S}\n",
       "7 H u0 p0 c0 {2,S}\n",
       "8 H u0 p0 c0 {2,S}\n",
       "9 H u0 p0 c0 {2,S}\n",
       "\"\"\""
      ]
     },
     "metadata": {},
     "output_type": "display_data"
    },
    {
     "name": "stdout",
     "output_type": "stream",
     "text": [
      "--------------------\n",
      "H\n",
      "X-H\n",
      "1 X u0 p0 c0 {2,S}\n",
      "2 H u0 p0 c0 {1,S}\n",
      "\n"
     ]
    },
    {
     "data": {
      "image/png": "[encoded data removed]",
      "text/plain": [
       "Molecule(SMILES=\"[Ni]\")"
      ]
     },
     "metadata": {},
     "output_type": "display_data"
    },
    {
     "name": "stderr",
     "output_type": "stream",
     "text": [
      "ERROR:root:oops\n",
      "Traceback (most recent call last):\n",
      "  File \"<ipython-input-77-522007bf145c>\", line 39, in <module>\n",
      "    new_atom.decrementRadical()\n",
      "  File \"rmgpy/molecule/molecule.py\", line 337, in rmgpy.molecule.molecule.Atom.decrementRadical\n",
      "    def decrementRadical(self):\n",
      "  File \"rmgpy/molecule/molecule.py\", line 346, in rmgpy.molecule.molecule.Atom.decrementRadical\n",
      "    raise gr.ActionError('Unable to update Atom due to LOSE_RADICAL action: Invalid radical electron set \"{0}\".'.format(self.radicalElectrons))\n",
      "ActionError: Unable to update Atom due to LOSE_RADICAL action: Invalid radical electron set \"-1\".\n"
     ]
    },
    {
     "name": "stdout",
     "output_type": "stream",
     "text": [
      "--------------------\n",
      "HCOH\n",
      "X=CH-OH\n",
      "--------------------\n",
      "O\n",
      "X=O\n",
      "1 X u0 p0 c0 {2,D}\n",
      "2 O u0 p2 c0 {1,D}\n",
      "\n"
     ]
    },
    {
     "data": {
      "image/png": "[encoded data removed]",
      "text/plain": [
       "Molecule(SMILES=\"O=[Ni]\")"
      ]
     },
     "metadata": {},
     "output_type": "display_data"
    },
    {
     "name": "stdout",
     "output_type": "stream",
     "text": [
      "--------------------\n",
      "N\n",
      "X#N\n",
      "1 X u0 p0 c0 {2,T}\n",
      "2 N u0 p1 c0 {1,T}\n",
      "\n"
     ]
    },
    {
     "data": {
      "image/png": "[encoded data removed]",
      "text/plain": [
       "Molecule(SMILES=\"*#N\")"
      ]
     },
     "metadata": {},
     "output_type": "display_data"
    },
    {
     "name": "stderr",
     "output_type": "stream",
     "text": [
      "ERROR:root:oops\n",
      "Traceback (most recent call last):\n",
      "  File \"<ipython-input-77-522007bf145c>\", line 39, in <module>\n",
      "    new_atom.decrementRadical()\n",
      "  File \"rmgpy/molecule/molecule.py\", line 337, in rmgpy.molecule.molecule.Atom.decrementRadical\n",
      "    def decrementRadical(self):\n",
      "  File \"rmgpy/molecule/molecule.py\", line 346, in rmgpy.molecule.molecule.Atom.decrementRadical\n",
      "    raise gr.ActionError('Unable to update Atom due to LOSE_RADICAL action: Invalid radical electron set \"{0}\".'.format(self.radicalElectrons))\n",
      "ActionError: Unable to update Atom due to LOSE_RADICAL action: Invalid radical electron set \"-1\".\n"
     ]
    },
    {
     "name": "stdout",
     "output_type": "stream",
     "text": [
      "--------------------\n",
      "CH-CH-vdw\n",
      "X:CH#CH\n",
      "--------------------\n",
      "O-NH2\n",
      "X-O-NH2\n",
      "1 X u0 p0 c0 {2,S}\n",
      "2 O u0 p2 c0 {1,S} {3,S}\n",
      "3 N u0 p1 c0 {2,S} {4,S} {5,S}\n",
      "4 H u0 p0 c0 {3,S}\n",
      "5 H u0 p0 c0 {3,S}\n",
      "\n"
     ]
    },
    {
     "data": {
      "image/png": "[encoded data removed]",
      "text/plain": [
       "Molecule(SMILES=\"NO*\")"
      ]
     },
     "metadata": {},
     "output_type": "display_data"
    },
    {
     "name": "stdout",
     "output_type": "stream",
     "text": [
      "--------------------\n",
      "HN-CH3\n",
      "X-NH-CH3\n",
      "1 X u0 p0 c0 {2,S}\n",
      "2 N u0 p1 c0 {1,S} {3,S} {4,S}\n",
      "3 H u0 p0 c0 {2,S}\n",
      "4 C u0 p0 c0 {2,S} {5,S} {6,S} {7,S}\n",
      "5 H u0 p0 c0 {4,S}\n",
      "6 H u0 p0 c0 {4,S}\n",
      "7 H u0 p0 c0 {4,S}\n",
      "\n"
     ]
    },
    {
     "data": {
      "image/png": "[encoded data removed]",
      "text/plain": [
       "Molecule(SMILES=\"CN*\")"
      ]
     },
     "metadata": {},
     "output_type": "display_data"
    },
    {
     "name": "stderr",
     "output_type": "stream",
     "text": [
      "ERROR:root:oops\n",
      "Traceback (most recent call last):\n",
      "  File \"<ipython-input-77-522007bf145c>\", line 41, in <module>\n",
      "    old_atom.decrementRadical()\n",
      "  File \"rmgpy/molecule/molecule.py\", line 337, in rmgpy.molecule.molecule.Atom.decrementRadical\n",
      "    def decrementRadical(self):\n",
      "  File \"rmgpy/molecule/molecule.py\", line 346, in rmgpy.molecule.molecule.Atom.decrementRadical\n",
      "    raise gr.ActionError('Unable to update Atom due to LOSE_RADICAL action: Invalid radical electron set \"{0}\".'.format(self.radicalElectrons))\n",
      "ActionError: Unable to update Atom due to LOSE_RADICAL action: Invalid radical electron set \"-1\".\n"
     ]
    },
    {
     "name": "stdout",
     "output_type": "stream",
     "text": [
      "--------------------\n",
      "HCN\n",
      "X:CH#N\n",
      "--------------------"
     ]
    },
    {
     "name": "stderr",
     "output_type": "stream",
     "text": [
      "WARNING:root:Could not generate SMILES for this molecule object. Likely due to a keyerror when converting to RDKit Here is molecules AdjList: 1 C u0 p0 c0 {2,D} {3,vdW} {4,S} {5,S}\n",
      "2 N u0 p1 c0 {1,D} {6,S}\n",
      "3 X u0 p0 c0 {1,vdW}\n",
      "4 H u0 p0 c0 {1,S}\n",
      "5 H u0 p0 c0 {1,S}\n",
      "6 H u0 p0 c0 {2,S}\n",
      "\n"
     ]
    },
    {
     "name": "stdout",
     "output_type": "stream",
     "text": [
      "\n",
      "H2C-NH\n",
      "X:CH2=NH\n",
      "1 X u0 p0 c0 {2,vdW}\n",
      "2 C u0 p0 c0 {1,vdW} {3,S} {4,S} {5,D}\n",
      "3 H u0 p0 c0 {2,S}\n",
      "4 H u0 p0 c0 {2,S}\n",
      "5 N u0 p1 c0 {2,D} {6,S}\n",
      "6 H u0 p0 c0 {5,S}\n",
      "\n"
     ]
    },
    {
     "data": {
      "image/png": "[encoded data removed]",
      "text/plain": [
       "Molecule().fromAdjacencyList\"\"\"1 C u0 p0 c0 {2,D} {3,vdW} {4,S} {5,S}\n",
       "2 N u0 p1 c0 {1,D} {6,S}\n",
       "3 X u0 p0 c0 {1,vdW}\n",
       "4 H u0 p0 c0 {1,S}\n",
       "5 H u0 p0 c0 {1,S}\n",
       "6 H u0 p0 c0 {2,S}\n",
       "\"\"\""
      ]
     },
     "metadata": {},
     "output_type": "display_data"
    },
    {
     "name": "stderr",
     "output_type": "stream",
     "text": [
      "WARNING:root:Could not generate SMILES for this molecule object. Likely due to a keyerror when converting to RDKit Here is molecules AdjList: 1 N u0 p1 c0 {2,vdW} {3,S} {4,S} {5,S}\n",
      "2 X u0 p0 c0 {1,vdW}\n",
      "3 H u0 p0 c0 {1,S}\n",
      "4 H u0 p0 c0 {1,S}\n",
      "5 H u0 p0 c0 {1,S}\n",
      "\n"
     ]
    },
    {
     "name": "stdout",
     "output_type": "stream",
     "text": [
      "--------------------\n",
      "NH3\n",
      "X:NH3\n",
      "1 X u0 p0 c0 {2,vdW}\n",
      "2 N u0 p1 c0 {1,vdW} {3,S} {4,S} {5,S}\n",
      "3 H u0 p0 c0 {2,S}\n",
      "4 H u0 p0 c0 {2,S}\n",
      "5 H u0 p0 c0 {2,S}\n",
      "\n"
     ]
    },
    {
     "data": {
      "image/png": "[encoded data removed]",
      "text/plain": [
       "Molecule().fromAdjacencyList\"\"\"1 N u0 p1 c0 {2,vdW} {3,S} {4,S} {5,S}\n",
       "2 X u0 p0 c0 {1,vdW}\n",
       "3 H u0 p0 c0 {1,S}\n",
       "4 H u0 p0 c0 {1,S}\n",
       "5 H u0 p0 c0 {1,S}\n",
       "\"\"\""
      ]
     },
     "metadata": {},
     "output_type": "display_data"
    },
    {
     "name": "stdout",
     "output_type": "stream",
     "text": [
      "--------------------\n",
      "NH2\n",
      "X-NH2\n",
      "1 X u0 p0 c0 {2,S}\n",
      "2 N u0 p1 c0 {1,S} {3,S} {4,S}\n",
      "3 H u0 p0 c0 {2,S}\n",
      "4 H u0 p0 c0 {2,S}\n",
      "\n"
     ]
    },
    {
     "data": {
      "image/png": "[encoded data removed]",
      "text/plain": [
       "Molecule(SMILES=\"N*\")"
      ]
     },
     "metadata": {},
     "output_type": "display_data"
    },
    {
     "name": "stderr",
     "output_type": "stream",
     "text": [
      "WARNING:root:Could not generate SMILES for this molecule object. Likely due to a keyerror when converting to RDKit Here is molecules AdjList: 1 C u0 p0 c0 {2,S} {3,vdW} {4,S} {5,S} {6,S}\n",
      "2 N u0 p1 c0 {1,S} {7,S} {8,S}\n",
      "3 X u0 p0 c0 {1,vdW}\n",
      "4 H u0 p0 c0 {1,S}\n",
      "5 H u0 p0 c0 {1,S}\n",
      "6 H u0 p0 c0 {1,S}\n",
      "7 H u0 p0 c0 {2,S}\n",
      "8 H u0 p0 c0 {2,S}\n",
      "\n"
     ]
    },
    {
     "name": "stdout",
     "output_type": "stream",
     "text": [
      "--------------------\n",
      "H3C-NH2\n",
      "X:CH3-NH2\n",
      "1 X u0 p0 c0 {2,vdW}\n",
      "2 C u0 p0 c0 {1,vdW} {3,S} {4,S} {5,S} {6,S}\n",
      "3 H u0 p0 c0 {2,S}\n",
      "4 H u0 p0 c0 {2,S}\n",
      "5 H u0 p0 c0 {2,S}\n",
      "6 N u0 p1 c0 {2,S} {7,S} {8,S}\n",
      "7 H u0 p0 c0 {6,S}\n",
      "8 H u0 p0 c0 {6,S}\n",
      "\n"
     ]
    },
    {
     "data": {
      "image/png": "[encoded data removed]",
      "text/plain": [
       "Molecule().fromAdjacencyList\"\"\"1 C u0 p0 c0 {2,S} {3,vdW} {4,S} {5,S} {6,S}\n",
       "2 N u0 p1 c0 {1,S} {7,S} {8,S}\n",
       "3 X u0 p0 c0 {1,vdW}\n",
       "4 H u0 p0 c0 {1,S}\n",
       "5 H u0 p0 c0 {1,S}\n",
       "6 H u0 p0 c0 {1,S}\n",
       "7 H u0 p0 c0 {2,S}\n",
       "8 H u0 p0 c0 {2,S}\n",
       "\"\"\""
      ]
     },
     "metadata": {},
     "output_type": "display_data"
    },
    {
     "name": "stderr",
     "output_type": "stream",
     "text": [
      "WARNING:root:Could not generate SMILES for this molecule object. Likely due to a keyerror when converting to RDKit Here is molecules AdjList: 1 N u0 p1 c0 {2,S} {3,vdW} {4,S} {5,S}\n",
      "2 N u0 p1 c0 {1,S} {6,S} {7,S}\n",
      "3 X u0 p0 c0 {1,vdW}\n",
      "4 H u0 p0 c0 {1,S}\n",
      "5 H u0 p0 c0 {1,S}\n",
      "6 H u0 p0 c0 {2,S}\n",
      "7 H u0 p0 c0 {2,S}\n",
      "\n"
     ]
    },
    {
     "name": "stdout",
     "output_type": "stream",
     "text": [
      "--------------------\n",
      "H2N-NH2\n",
      "X:NH2-NH2\n",
      "1 X u0 p0 c0 {2,vdW}\n",
      "2 N u0 p1 c0 {1,vdW} {3,S} {4,S} {5,S}\n",
      "3 H u0 p0 c0 {2,S}\n",
      "4 H u0 p0 c0 {2,S}\n",
      "5 N u0 p1 c0 {2,S} {6,S} {7,S}\n",
      "6 H u0 p0 c0 {5,S}\n",
      "7 H u0 p0 c0 {5,S}\n",
      "\n"
     ]
    },
    {
     "data": {
      "image/png": "[encoded data removed]",
      "text/plain": [
       "Molecule().fromAdjacencyList\"\"\"1 N u0 p1 c0 {2,S} {3,vdW} {4,S} {5,S}\n",
       "2 N u0 p1 c0 {1,S} {6,S} {7,S}\n",
       "3 X u0 p0 c0 {1,vdW}\n",
       "4 H u0 p0 c0 {1,S}\n",
       "5 H u0 p0 c0 {1,S}\n",
       "6 H u0 p0 c0 {2,S}\n",
       "7 H u0 p0 c0 {2,S}\n",
       "\"\"\""
      ]
     },
     "metadata": {},
     "output_type": "display_data"
    },
    {
     "name": "stderr",
     "output_type": "stream",
     "text": [
      "ERROR:root:oops\n",
      "Traceback (most recent call last):\n",
      "  File \"<ipython-input-77-522007bf145c>\", line 41, in <module>\n",
      "    old_atom.decrementRadical()\n",
      "  File \"rmgpy/molecule/molecule.py\", line 337, in rmgpy.molecule.molecule.Atom.decrementRadical\n",
      "    def decrementRadical(self):\n",
      "  File \"rmgpy/molecule/molecule.py\", line 346, in rmgpy.molecule.molecule.Atom.decrementRadical\n",
      "    raise gr.ActionError('Unable to update Atom due to LOSE_RADICAL action: Invalid radical electron set \"{0}\".'.format(self.radicalElectrons))\n",
      "ActionError: Unable to update Atom due to LOSE_RADICAL action: Invalid radical electron set \"-1\".\n",
      "ERROR:root:oops\n",
      "Traceback (most recent call last):\n",
      "  File \"<ipython-input-77-522007bf145c>\", line 41, in <module>\n",
      "    old_atom.decrementRadical()\n",
      "  File \"rmgpy/molecule/molecule.py\", line 337, in rmgpy.molecule.molecule.Atom.decrementRadical\n",
      "    def decrementRadical(self):\n",
      "  File \"rmgpy/molecule/molecule.py\", line 346, in rmgpy.molecule.molecule.Atom.decrementRadical\n",
      "    raise gr.ActionError('Unable to update Atom due to LOSE_RADICAL action: Invalid radical electron set \"{0}\".'.format(self.radicalElectrons))\n",
      "ActionError: Unable to update Atom due to LOSE_RADICAL action: Invalid radical electron set \"-1\".\n"
     ]
    },
    {
     "name": "stdout",
     "output_type": "stream",
     "text": [
      "--------------------\n",
      "HCO\n",
      "X-CH=O\n",
      "--------------------\n",
      "CNH\n",
      "X=C=NH\n",
      "--------------------\n",
      "HN-NH-h\n",
      "X-NH-NH-X\n",
      "1 X u0 p0 c0 {2,S}\n",
      "2 N u0 p1 c0 {1,S} {3,S} {4,S}\n",
      "3 H u0 p0 c0 {2,S}\n",
      "4 N u0 p1 c0 {2,S} {5,S} {6,S}\n",
      "5 H u0 p0 c0 {4,S}\n",
      "6 X u0 p0 c0 {4,S}\n",
      "\n"
     ]
    },
    {
     "data": {
      "image/png": "[encoded data removed]",
      "text/plain": [
       "Molecule(SMILES=\"N(N*)*\")"
      ]
     },
     "metadata": {},
     "output_type": "display_data"
    },
    {
     "name": "stderr",
     "output_type": "stream",
     "text": [
      "ERROR:root:oops\n",
      "Traceback (most recent call last):\n",
      "  File \"<ipython-input-77-522007bf145c>\", line 39, in <module>\n",
      "    new_atom.decrementRadical()\n",
      "  File \"rmgpy/molecule/molecule.py\", line 337, in rmgpy.molecule.molecule.Atom.decrementRadical\n",
      "    def decrementRadical(self):\n",
      "  File \"rmgpy/molecule/molecule.py\", line 346, in rmgpy.molecule.molecule.Atom.decrementRadical\n",
      "    raise gr.ActionError('Unable to update Atom due to LOSE_RADICAL action: Invalid radical electron set \"{0}\".'.format(self.radicalElectrons))\n",
      "ActionError: Unable to update Atom due to LOSE_RADICAL action: Invalid radical electron set \"-1\".\n"
     ]
    },
    {
     "name": "stdout",
     "output_type": "stream",
     "text": [
      "--------------------\n",
      "CNH2\n",
      "X#C-NH2\n",
      "--------------------\n",
      "NOH\n",
      "X=N-OH\n",
      "1 X u0 p0 c0 {2,D}\n",
      "2 N u0 p1 c0 {1,D} {3,S}\n",
      "3 O u0 p2 c0 {2,S} {4,S}\n",
      "4 H u0 p0 c0 {3,S}\n",
      "\n"
     ]
    },
    {
     "data": {
      "image/png": "[encoded data removed]",
      "text/plain": [
       "Molecule(SMILES=\"N(=*)O\")"
      ]
     },
     "metadata": {},
     "output_type": "display_data"
    },
    {
     "name": "stdout",
     "output_type": "stream",
     "text": [
      "--------------------\n",
      "NN\n",
      "X-N=N-X\n",
      "1 X u0 p0 c0 {2,S}\n",
      "2 N u0 p1 c0 {1,S} {3,D}\n",
      "3 N u0 p1 c0 {2,D} {4,S}\n",
      "4 X u0 p0 c0 {3,S}\n",
      "\n"
     ]
    },
    {
     "data": {
      "image/png": "[encoded data removed]",
      "text/plain": [
       "Molecule(SMILES=\"N(=N*)*\")"
      ]
     },
     "metadata": {},
     "output_type": "display_data"
    },
    {
     "name": "stderr",
     "output_type": "stream",
     "text": [
      "ERROR:root:oops\n",
      "Traceback (most recent call last):\n",
      "  File \"<ipython-input-77-522007bf145c>\", line 41, in <module>\n",
      "    old_atom.decrementRadical()\n",
      "  File \"rmgpy/molecule/molecule.py\", line 337, in rmgpy.molecule.molecule.Atom.decrementRadical\n",
      "    def decrementRadical(self):\n",
      "  File \"rmgpy/molecule/molecule.py\", line 346, in rmgpy.molecule.molecule.Atom.decrementRadical\n",
      "    raise gr.ActionError('Unable to update Atom due to LOSE_RADICAL action: Invalid radical electron set \"{0}\".'.format(self.radicalElectrons))\n",
      "ActionError: Unable to update Atom due to LOSE_RADICAL action: Invalid radical electron set \"-1\".\n",
      "ERROR:root:oops\n",
      "Traceback (most recent call last):\n",
      "  File \"<ipython-input-77-522007bf145c>\", line 32, in <module>\n",
      "    group_mol = Molecule(SMILES='[{}]'.format(group_atoms))\n",
      "  File \"rmgpy/molecule/molecule.py\", line 715, in rmgpy.molecule.molecule.Molecule.__init__\n",
      "    if SMILES != '': self.fromSMILES(SMILES)\n",
      "  File \"rmgpy/molecule/molecule.py\", line 1395, in rmgpy.molecule.molecule.Molecule.fromSMILES\n",
      "    parser.fromSMILES(self, smilesstr, backend)\n",
      "  File \"rmgpy/molecule/parser.py\", line 346, in rmgpy.molecule.parser.fromSMILES\n",
      "    def fromSMILES(mol, smilesstr, backend='try-all'):\n",
      "  File \"rmgpy/molecule/parser.py\", line 352, in rmgpy.molecule.parser.fromSMILES\n",
      "    return __parse(mol, smilesstr, 'smi', backend)\n",
      "  File \"rmgpy/molecule/parser.py\", line 157, in rmgpy.molecule.parser.__parse\n",
      "    __fromSMILES(mol, identifier, _backend)\n",
      "  File \"rmgpy/molecule/parser.py\", line 104, in rmgpy.molecule.parser.__fromSMILES\n",
      "    raise ValueError(\"Could not interpret the SMILES string {0!r}\".format(smilesstr))\n",
      "ValueError: Could not interpret the SMILES string '[H2]'\n"
     ]
    },
    {
     "name": "stdout",
     "output_type": "stream",
     "text": [
      "--------------------\n",
      "HCNH\n",
      "X-CH=NH\n",
      "--------------------\n",
      "H2\n",
      "X:H2\n",
      "--------------------\n",
      "N-CH2\n",
      "X-N=CH2\n",
      "1 X u0 p0 c0 {2,S}\n",
      "2 N u0 p1 c0 {1,S} {3,D}\n",
      "3 C u0 p0 c0 {2,D} {4,S} {5,S}\n",
      "4 H u0 p0 c0 {3,S}\n",
      "5 H u0 p0 c0 {3,S}\n",
      "\n"
     ]
    },
    {
     "data": {
      "image/png": "[encoded data removed]",
      "text/plain": [
       "Molecule(SMILES=\"C=N*\")"
      ]
     },
     "metadata": {},
     "output_type": "display_data"
    },
    {
     "name": "stdout",
     "output_type": "stream",
     "text": [
      "--------------------\n",
      "NO-h\n",
      "X=N-O-X\n",
      "1 X u0 p0 c0 {2,D}\n",
      "2 N u0 p1 c0 {1,D} {3,S}\n",
      "3 O u0 p2 c0 {2,S} {4,S}\n",
      "4 X u0 p0 c0 {3,S}\n",
      "\n"
     ]
    },
    {
     "data": {
      "image/png": "[encoded data removed]",
      "text/plain": [
       "Molecule(SMILES=\"N(=*)O*\")"
      ]
     },
     "metadata": {},
     "output_type": "display_data"
    },
    {
     "name": "stdout",
     "output_type": "stream",
     "text": [
      "--------------------\n",
      "OOH\n",
      "X-O-OH\n",
      "1 X u0 p0 c0 {2,S}\n",
      "2 O u0 p2 c0 {1,S} {3,S}\n",
      "3 O u0 p2 c0 {2,S} {4,S}\n",
      "4 H u0 p0 c0 {3,S}\n",
      "\n"
     ]
    },
    {
     "data": {
      "image/png": "[encoded data removed]",
      "text/plain": [
       "Molecule(SMILES=\"OO[Ni]\")"
      ]
     },
     "metadata": {},
     "output_type": "display_data"
    },
    {
     "name": "stdout",
     "output_type": "stream",
     "text": [
      "--------------------\n",
      "N-CH3\n",
      "X=N-CH3\n",
      "1 X u0 p0 c0 {2,D}\n",
      "2 N u0 p1 c0 {1,D} {3,S}\n",
      "3 C u0 p0 c0 {2,S} {4,S} {5,S} {6,S}\n",
      "4 H u0 p0 c0 {3,S}\n",
      "5 H u0 p0 c0 {3,S}\n",
      "6 H u0 p0 c0 {3,S}\n",
      "\n"
     ]
    },
    {
     "data": {
      "image/png": "[encoded data removed]",
      "text/plain": [
       "Molecule(SMILES=\"CN=*\")"
      ]
     },
     "metadata": {},
     "output_type": "display_data"
    },
    {
     "name": "stderr",
     "output_type": "stream",
     "text": [
      "WARNING:root:Could not generate SMILES for this molecule object. Likely due to a keyerror when converting to RDKit Here is molecules AdjList: 1 O u0 p2 c0 {2,vdW} {3,S} {4,S}\n",
      "2 X u0 p0 c0 {1,vdW}\n",
      "3 H u0 p0 c0 {1,S}\n",
      "4 H u0 p0 c0 {1,S}\n",
      "\n"
     ]
    },
    {
     "name": "stdout",
     "output_type": "stream",
     "text": [
      "--------------------\n",
      "H2O\n",
      "X:OH2\n",
      "1 X u0 p0 c0 {2,vdW}\n",
      "2 O u0 p2 c0 {1,vdW} {3,S} {4,S}\n",
      "3 H u0 p0 c0 {2,S}\n",
      "4 H u0 p0 c0 {2,S}\n",
      "\n"
     ]
    },
    {
     "data": {
      "image/png": "[encoded data removed]",
      "text/plain": [
       "Molecule().fromAdjacencyList\"\"\"1 O u0 p2 c0 {2,vdW} {3,S} {4,S}\n",
       "2 X u0 p0 c0 {1,vdW}\n",
       "3 H u0 p0 c0 {1,S}\n",
       "4 H u0 p0 c0 {1,S}\n",
       "\"\"\""
      ]
     },
     "metadata": {},
     "output_type": "display_data"
    },
    {
     "name": "stderr",
     "output_type": "stream",
     "text": [
      "ERROR:root:oops\n",
      "Traceback (most recent call last):\n",
      "  File \"<ipython-input-77-522007bf145c>\", line 41, in <module>\n",
      "    old_atom.decrementRadical()\n",
      "  File \"rmgpy/molecule/molecule.py\", line 337, in rmgpy.molecule.molecule.Atom.decrementRadical\n",
      "    def decrementRadical(self):\n",
      "  File \"rmgpy/molecule/molecule.py\", line 346, in rmgpy.molecule.molecule.Atom.decrementRadical\n",
      "    raise gr.ActionError('Unable to update Atom due to LOSE_RADICAL action: Invalid radical electron set \"{0}\".'.format(self.radicalElectrons))\n",
      "ActionError: Unable to update Atom due to LOSE_RADICAL action: Invalid radical electron set \"-1\".\n",
      "ERROR:root:oops\n",
      "Traceback (most recent call last):\n",
      "  File \"<ipython-input-77-522007bf145c>\", line 41, in <module>\n",
      "    old_atom.decrementRadical()\n",
      "  File \"rmgpy/molecule/molecule.py\", line 337, in rmgpy.molecule.molecule.Atom.decrementRadical\n",
      "    def decrementRadical(self):\n",
      "  File \"rmgpy/molecule/molecule.py\", line 346, in rmgpy.molecule.molecule.Atom.decrementRadical\n",
      "    raise gr.ActionError('Unable to update Atom due to LOSE_RADICAL action: Invalid radical electron set \"{0}\".'.format(self.radicalElectrons))\n",
      "ActionError: Unable to update Atom due to LOSE_RADICAL action: Invalid radical electron set \"-1\".\n",
      "ERROR:root:oops\n",
      "Traceback (most recent call last):\n",
      "  File \"<ipython-input-77-522007bf145c>\", line 41, in <module>\n",
      "    old_atom.decrementRadical()\n",
      "  File \"rmgpy/molecule/molecule.py\", line 337, in rmgpy.molecule.molecule.Atom.decrementRadical\n",
      "    def decrementRadical(self):\n",
      "  File \"rmgpy/molecule/molecule.py\", line 346, in rmgpy.molecule.molecule.Atom.decrementRadical\n",
      "    raise gr.ActionError('Unable to update Atom due to LOSE_RADICAL action: Invalid radical electron set \"{0}\".'.format(self.radicalElectrons))\n",
      "ActionError: Unable to update Atom due to LOSE_RADICAL action: Invalid radical electron set \"-1\".\n"
     ]
    },
    {
     "name": "stdout",
     "output_type": "stream",
     "text": [
      "--------------------\n",
      "HC-C\n",
      "X-CH=C=X\n",
      "--------------------\n",
      "HC-CH2\n",
      "X-CH=CH2\n",
      "--------------------\n",
      "C-CH2\n",
      "X=C=CH2\n"
     ]
    },
    {
     "name": "stderr",
     "output_type": "stream",
     "text": [
      "ERROR:root:oops\n",
      "Traceback (most recent call last):\n",
      "  File \"<ipython-input-77-522007bf145c>\", line 39, in <module>\n",
      "    new_atom.decrementRadical()\n",
      "  File \"rmgpy/molecule/molecule.py\", line 337, in rmgpy.molecule.molecule.Atom.decrementRadical\n",
      "    def decrementRadical(self):\n",
      "  File \"rmgpy/molecule/molecule.py\", line 346, in rmgpy.molecule.molecule.Atom.decrementRadical\n",
      "    raise gr.ActionError('Unable to update Atom due to LOSE_RADICAL action: Invalid radical electron set \"{0}\".'.format(self.radicalElectrons))\n",
      "ActionError: Unable to update Atom due to LOSE_RADICAL action: Invalid radical electron set \"-1\".\n"
     ]
    },
    {
     "name": "stdout",
     "output_type": "stream",
     "text": [
      "--------------------\n",
      "C-CH3\n",
      "X#C-CH3\n",
      "--------------------\n",
      "H2CN-h\n",
      "X-CH2-N=X\n",
      "1 X u0 p0 c0 {2,S}\n",
      "2 C u0 p0 c0 {1,S} {3,S} {4,S} {5,S}\n",
      "3 H u0 p0 c0 {2,S}\n",
      "4 H u0 p0 c0 {2,S}\n",
      "5 N u0 p1 c0 {2,S} {6,D}\n",
      "6 X u0 p0 c0 {5,D}\n",
      "\n"
     ]
    },
    {
     "data": {
      "image/png": "[encoded data removed]",
      "text/plain": [
       "Molecule(SMILES=\"C(N=*)*\")"
      ]
     },
     "metadata": {},
     "output_type": "display_data"
    },
    {
     "name": "stdout",
     "output_type": "stream",
     "text": [
      "--------------------\n"
     ]
    }
   ],
   "source": [
    "names_to_molecules = {}\n",
    "for name, structure in names_to_structure.items():\n",
    "    print(name)\n",
    "    print(names_to_structure[name])\n",
    "    \n",
    "    mol = Molecule()\n",
    "    surface = Atom(element='X', lonePairs=0)\n",
    "    mol.addAtom(surface)\n",
    "    \n",
    "    # for a single atom\n",
    "    \"\"\"\n",
    "    atom = Atom(element='C')\n",
    "    m.addAtom(atom)\n",
    "    m.addBond(Bond(surface, atom, 1))\"\"\"\n",
    "    \n",
    "    m = re.match('X([:\\-#=][XCHNO2-9]+)([:\\-#=][XCHNO2-9]+)?([:\\-#=][XCHNO2-9]+)?', structure)\n",
    "    groups = m.groups()\n",
    "    \n",
    "    try:\n",
    "\n",
    "        old_atom = surface\n",
    "        for group in groups:\n",
    "            if group is None: continue\n",
    "            bond_type = group[0]\n",
    "            group_atoms = group[1:]\n",
    "\n",
    "            # for a group of atoms\n",
    "\n",
    "            if group_atoms == 'X':\n",
    "                group_mol = Molecule().fromAdjacencyList('1 X u0')\n",
    "            else:\n",
    "                group_mol = Molecule(SMILES='[{}]'.format(group_atoms))\n",
    "            new_atom = group_mol.atoms[0]\n",
    "            merged = mol.merge(group_mol)\n",
    "            bond_order = {'-':1, ':':0, '=':2, '#':3}[bond_type]\n",
    "            merged.addBond(Bond(old_atom, new_atom, bond_order))\n",
    "            for n in range(bond_order):\n",
    "                if not new_atom.isSurfaceSite():\n",
    "                    new_atom.decrementRadical()\n",
    "                if not old_atom.isSurfaceSite():\n",
    "                    old_atom.decrementRadical()\n",
    "            mol = merged\n",
    "            old_atom = new_atom\n",
    "\n",
    "        names_to_molecules[name] = mol\n",
    "\n",
    "        mol.multiplicity = mol.getNumberOfRadicalElectrons() + 1\n",
    "\n",
    "\n",
    "        print(mol.toAdjacencyList())\n",
    "        display(mol)\n",
    "    except:\n",
    "        logging.exception(\"oops\")\n",
    "    print('-'*20)\n",
    "    "
   ]
  },
  {
   "cell_type": "code",
   "execution_count": 39,
   "metadata": {},
   "outputs": [
    {
     "data": {
      "text/plain": [
       "2"
      ]
     },
     "execution_count": 39,
     "metadata": {},
     "output_type": "execute_result"
    }
   ],
   "source": [
    "m.getNumberOfRadicalElectrons()"
   ]
  },
  {
   "cell_type": "code",
   "execution_count": 46,
   "metadata": {},
   "outputs": [],
   "source": [
    "atom.de"
   ]
  },
  {
   "cell_type": "code",
   "execution_count": 34,
   "metadata": {},
   "outputs": [
    {
     "name": "stdout",
     "output_type": "stream",
     "text": [
      "multiplicity -187\n",
      "1 X u0 p0 c0 {2,S}\n",
      "2 C u0 p-100 c0 {1,S}\n",
      "3 C u2 p0 c0 {4,S} {5,S}\n",
      "4 H u0 p0 c0 {3,S}\n",
      "5 H u0 p0 c0 {3,S}\n",
      "\n"
     ]
    }
   ],
   "source": [
    "group = Molecule(SMILES='[CH2]')\n",
    "a = group.atoms[0]\n",
    "merged = m.merge(group)\n",
    "print merged.toAdjacencyList()"
   ]
  },
  {
   "cell_type": "code",
   "execution_count": 33,
   "metadata": {},
   "outputs": [
    {
     "name": "stdout",
     "output_type": "stream",
     "text": [
      "multiplicity -187\n",
      "1 X u0 p0 c0 {2,S}\n",
      "2 C u0 p-100 c0 {1,S}\n",
      "\n"
     ]
    }
   ],
   "source": [
    "print m.toAdjacencyList()"
   ]
  },
  {
   "cell_type": "code",
   "execution_count": 65,
   "metadata": {},
   "outputs": [
    {
     "name": "stdout",
     "output_type": "stream",
     "text": [
      "\n",
      "X-OH\n",
      "('-OH', None, None)\n",
      "\n",
      "X-NH-N=X\n",
      "('-NH', '-N', None)\n",
      "\n",
      "X:CH2=O\n",
      "(':CH2', '=O', None)\n",
      "\n",
      "X=CH-CH=X\n",
      "('=CH', '-CH', None)\n",
      "\n",
      "X-NO=O\n",
      "('-NO', '=O', None)\n",
      "\n",
      "X=CH-O-X\n",
      "('=CH', '-O', None)\n",
      "\n",
      "X-NH-OH\n",
      "('-NH', '-OH', None)\n",
      "\n",
      "X-CH2-OH\n",
      "('-CH2', '-OH', None)\n",
      "\n",
      "X-CH2-NH2\n",
      "('-CH2', '-NH2', None)\n",
      "\n",
      "X-CH3\n",
      "('-CH3', None, None)\n",
      "\n",
      "X=CH-CH3\n",
      "('=CH', '-CH3', None)\n",
      "\n",
      "X=CH-NH-X\n",
      "('=CH', '-NH', None)\n",
      "\n",
      "X#C-OH\n",
      "('#C', '-OH', None)\n",
      "\n",
      "X-CH2-CH2-X\n",
      "('-CH2', '-CH2', None)\n",
      "\n",
      "X-O-O-X\n",
      "('-O', '-O', None)\n",
      "\n",
      "X=NH\n",
      "('=NH', None, None)\n",
      "\n",
      "X-CH2-NH-X\n",
      "('-CH2', '-NH', None)\n",
      "\n",
      "X:CH3-OH\n",
      "(':CH3', '-OH', None)\n",
      "\n",
      "X:NH2-OH\n",
      "(':NH2', '-OH', None)\n",
      "\n",
      "X-N=O\n",
      "('-N', '=O', None)\n",
      "\n",
      "X-CH2-CH=X\n",
      "('-CH2', '-CH', None)\n",
      "\n",
      "X=C=C=X\n",
      "('=C', '=C', None)\n",
      "\n",
      "X:OH-OH\n",
      "(':OH', '-OH', None)\n",
      "\n",
      "X-N=NH\n",
      "('-N', '=NH', None)\n",
      "\n",
      "X=CH-NH2\n",
      "('=CH', '-NH2', None)\n",
      "\n",
      "X=CH2\n",
      "('=CH2', None, None)\n",
      "\n",
      "X-NH-O-X\n",
      "('-NH', '-O', None)\n",
      "\n",
      "X:CH4\n",
      "(':CH4', None, None)\n",
      "\n",
      "X-O-CH3\n",
      "('-O', '-CH3', None)\n",
      "\n",
      "X-NH-NH2\n",
      "('-NH', '-NH2', None)\n",
      "\n",
      "X=C=O\n",
      "('=C', '=O', None)\n",
      "\n",
      "X=N-NH2l\n",
      "('=N', '-NH2', None)\n",
      "\n",
      "X=CH-N=X\n",
      "('=CH', '-N', None)\n",
      "\n",
      "X-CH2-CH3\n",
      "('-CH2', '-CH3', None)\n",
      "\n",
      "X#C\n",
      "('#C', None, None)\n",
      "\n",
      "X#C-H\n",
      "('#C', '-H', None)\n",
      "\n",
      "X:NH-NH\n",
      "(':NH', '-NH', None)\n",
      "\n",
      "X=C=N-X\n",
      "('=C', '=N', None)\n",
      "\n",
      "X:NH=O\n",
      "(':NH', '=O', None)\n",
      "\n",
      "X:CH3-CH3\n",
      "(':CH3', '-CH3', None)\n",
      "\n",
      "X-H\n",
      "('-H', None, None)\n",
      "\n",
      "X=CH-OH\n",
      "('=CH', '-OH', None)\n",
      "\n",
      "X=O\n",
      "('=O', None, None)\n",
      "\n",
      "X#N\n",
      "('#N', None, None)\n",
      "\n",
      "X:CH#CH\n",
      "(':CH', '#CH', None)\n",
      "\n",
      "X-O-NH2\n",
      "('-O', '-NH2', None)\n",
      "\n",
      "X-NH-CH3\n",
      "('-NH', '-CH3', None)\n",
      "\n",
      "X:CH#N\n",
      "(':CH', '#N', None)\n",
      "\n",
      "X:CH2=NH\n",
      "(':CH2', '=NH', None)\n",
      "\n",
      "X:NH3\n",
      "(':NH3', None, None)\n",
      "\n",
      "X-NH2\n",
      "('-NH2', None, None)\n",
      "\n",
      "X:CH3-NH2\n",
      "(':CH3', '-NH2', None)\n",
      "\n",
      "X:NH2-NH2\n",
      "(':NH2', '-NH2', None)\n",
      "\n",
      "X-CH=O\n",
      "('-CH', '=O', None)\n",
      "\n",
      "X=C=NH\n",
      "('=C', '=NH', None)\n",
      "\n",
      "X-NH-NH-X\n",
      "('-NH', '-NH', None)\n",
      "\n",
      "X#C-NH2\n",
      "('#C', '-NH2', None)\n",
      "\n",
      "X=N-OH\n",
      "('=N', '-OH', None)\n",
      "\n",
      "X-N=N-X\n",
      "('-N', '=N', None)\n",
      "\n",
      "X-CH=NH\n",
      "('-CH', '=NH', None)\n",
      "\n",
      "X:H2\n",
      "(':H2', None, None)\n",
      "\n",
      "X-N=CH2\n",
      "('-N', '=CH2', None)\n",
      "\n",
      "X=N-O-X\n",
      "('=N', '-O', None)\n",
      "\n",
      "X-O-OH\n",
      "('-O', '-OH', None)\n",
      "\n",
      "X=N-CH3\n",
      "('=N', '-CH3', None)\n",
      "\n",
      "X:OH2\n",
      "(':OH2', None, None)\n",
      "\n",
      "X-CH=C=X\n",
      "('-CH', '=C', None)\n",
      "\n",
      "X-CH=CH2\n",
      "('-CH', '=CH2', None)\n",
      "\n",
      "X=C=CH2\n",
      "('=C', '=CH2', None)\n",
      "\n",
      "X#C-CH3\n",
      "('#C', '-CH3', None)\n",
      "\n",
      "X-CH2-N=X\n",
      "('-CH2', '-N', None)\n"
     ]
    }
   ],
   "source": [
    "for name, structure in names_to_structure.items():\n",
    "    print '\\n'+structure    \n",
    "    m = re.match('X([:\\-#=][CHNO2-9]+)([:\\-#=][CHNO2-9]+)?([:\\-#=][CHNO2-9]+)?', structure)\n",
    "    groups = m.groups()\n",
    "    print groups\n",
    "    "
   ]
  },
  {
   "cell_type": "code",
   "execution_count": 71,
   "metadata": {},
   "outputs": [
    {
     "data": {
      "image/png": "[encoded data removed]",
      "text/plain": [
       "Molecule(SMILES=\"[Ni]\")"
      ]
     },
     "execution_count": 71,
     "metadata": {},
     "output_type": "execute_result"
    }
   ],
   "source": [
    "Molecule().fromAdjacencyList('1 X u0')"
   ]
  },
  {
   "cell_type": "code",
   "execution_count": null,
   "metadata": {
    "collapsed": true
   },
   "outputs": [],
   "source": []
  }
 ],
 "metadata": {
  "kernelspec": {
   "display_name": "Python 2",
   "language": "python",
   "name": "python2"
  },
  "language_info": {
   "codemirror_mode": {
    "name": "ipython",
    "version": 2
   },
   "file_extension": ".py",
   "mimetype": "text/x-python",
   "name": "python",
   "nbconvert_exporter": "python",
   "pygments_lexer": "ipython2",
   "version": "2.7.14"
  }
 },
 "nbformat": 4,
 "nbformat_minor": 2
}
